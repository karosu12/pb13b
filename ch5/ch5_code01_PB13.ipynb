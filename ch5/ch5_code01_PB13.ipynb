{
  "nbformat": 4,
  "nbformat_minor": 0,
  "metadata": {
    "colab": {
      "name": "ch5_code01_PB13.ipynb",
      "provenance": []
    },
    "kernelspec": {
      "name": "python3",
      "display_name": "Python 3"
    },
    "language_info": {
      "name": "python"
    }
  },
  "cells": [
    {
      "cell_type": "markdown",
      "metadata": {
        "id": "RtWoJ1odCRqm"
      },
      "source": [
        "# **클래스, 모듈, 패키지**"
      ]
    },
    {
      "cell_type": "markdown",
      "metadata": {
        "id": "y52DllZECS5G"
      },
      "source": [
        "* 클래스\n",
        "* 클래스는 왜 필요한가?\n",
        "* 클래스와 객체\n",
        "* 사칙연산 클래스 만들기\n",
        "* 클래스를 어떻게 만들지 먼저 구상하기\n",
        "* 클래스 구조 만들기\n",
        "* 객체에 숫자 지정할 수 있게 만들기\n",
        "* 더하기 기능 만들기\n",
        "* 곱하기, 빼기, 나누기 기능 만들기\n",
        "* 생성자 (Constructor)\n",
        "* 클래스의 상속\n",
        "* 메서드 오버라이딩\n",
        "* 클래스 변수\n",
        "\n",
        "\n"
      ]
    },
    {
      "cell_type": "markdown",
      "metadata": {
        "id": "s7i5Xi7sDFl-"
      },
      "source": [
        "**클래스란 무엇인가?**"
      ]
    },
    {
      "cell_type": "code",
      "metadata": {
        "colab": {
          "base_uri": "https://localhost:8080/"
        },
        "id": "O3IauU3ZDRbe",
        "outputId": "9ef52a68-20d5-4ef4-c28c-358ce4e3b624"
      },
      "source": [
        "print(\"클래스란 무엇인가?\")\n",
        "#######################################\n",
        "# 클래스(class)\n",
        "#######################################"
      ],
      "execution_count": null,
      "outputs": [
        {
          "output_type": "stream",
          "text": [
            "클래스란 무엇인가?\n"
          ],
          "name": "stdout"
        }
      ]
    },
    {
      "cell_type": "code",
      "metadata": {
        "colab": {
          "base_uri": "https://localhost:8080/"
        },
        "id": "y_1bxvbUDXUl",
        "outputId": "449d3d80-9626-4371-817f-8b08f89ccb70"
      },
      "source": [
        "print(\"클래스는 왜 필요한가?\")\n",
        "\n",
        "print(\"-->\", \"지정된 기능을 수행하는 변수와 함수의 모음\")\n",
        "print(\"-->\", \"인스턴스, 즉 객체를 생성하여 기능을 이용\")\n",
        "print(\"-->\", \"코딩을 객체화\")"
      ],
      "execution_count": null,
      "outputs": [
        {
          "output_type": "stream",
          "text": [
            "클래스는 왜 필요한가?\n",
            "--> 지정된 기능을 수행하는 변수와 함수의 모음\n",
            "--> 인스턴스, 즉 객체를 생성하여 기능을 이용\n",
            "--> 코딩을 객체화\n"
          ],
          "name": "stdout"
        }
      ]
    },
    {
      "cell_type": "markdown",
      "metadata": {
        "id": "WGw9HWlkDhOG"
      },
      "source": [
        "**[예] 이전에 계산한 결괏값을 기억하고 있는 계산기**"
      ]
    },
    {
      "cell_type": "code",
      "metadata": {
        "colab": {
          "base_uri": "https://localhost:8080/"
        },
        "id": "Y-YeImPCDi98",
        "outputId": "2548028f-4c01-45d0-d68e-74c1cc0512f1"
      },
      "source": [
        "result = 0\n",
        "\n",
        "def add(num):           # 매개변수 num을 가지고 있는 add() 함수를 정의합니다.\n",
        "    global result       # global 변수 ---> 최근에 계산한 결과값을 저장합니다.(되도록이면 쓰지 않는게 좋음)\n",
        "    result += num       # result(최근값)값에 num 값이 더해집니다. \n",
        "    return result       # global변수 result값을 반환해줍니다.\n",
        "\n",
        "\n",
        "# 이전에 계산한 결괏값을 기억\n",
        "print(add(3))      # add(3) --> 처음 result값은 0이기 때문에 0+3 이므로 3이 출력됩니다.\n",
        "print(add(4))      # result가 global 변수이기 때문에 최근 계산한 결과값인 3을 유지해서 add(4)는 3+4 이므로 7이 출력됩니다."
      ],
      "execution_count": null,
      "outputs": [
        {
          "output_type": "stream",
          "text": [
            "3\n",
            "7\n"
          ],
          "name": "stdout"
        }
      ]
    },
    {
      "cell_type": "code",
      "metadata": {
        "colab": {
          "base_uri": "https://localhost:8080/"
        },
        "id": "SEvm8DASDoPn",
        "outputId": "08718644-88ff-44b7-ba2e-611d3baab314"
      },
      "source": [
        "result      # result에는 제일 최근 저장된 계산된 값인 7이 들어있는 것을 확인할 수 있습니다."
      ],
      "execution_count": null,
      "outputs": [
        {
          "output_type": "execute_result",
          "data": {
            "text/plain": [
              "7"
            ]
          },
          "metadata": {
            "tags": []
          },
          "execution_count": 5
        }
      ]
    },
    {
      "cell_type": "markdown",
      "metadata": {
        "id": "GLXRN-YTDqt2"
      },
      "source": [
        "**2대의 계산기가 필요한 상황이 발생하면?**"
      ]
    },
    {
      "cell_type": "code",
      "metadata": {
        "colab": {
          "base_uri": "https://localhost:8080/"
        },
        "id": "ct0ex24eDtCk",
        "outputId": "daae3b38-7eb7-48df-ca5a-4783f0212622"
      },
      "source": [
        "# 두 개의 global 변수 result1 과 result2를 초기화 시킵니다.\n",
        "result1 = 0\n",
        "result2 = 0\n",
        "\n",
        "def add1(num):            # 매개변수 num을 가지고 있는 add1() 함수를 정의합니다.\n",
        "    global result1        # result1에 최근 계산한 결과값을 저장합니다.\n",
        "    result1 += num        # result1에 num 값이 더해집니다. \n",
        "    return result1        # global 변수 result1 값을 반환해줍니다.\n",
        "\n",
        "\n",
        "def add2(num):            # 매개변수 num을 가지고 있는 add2() 함수를 정의합니다.\n",
        "    global result2        # result2에 최근 계산한 결과값을 저장합니다.\n",
        "    result2 += num        # result2에 num 값이 더해집니다.\n",
        "    return result2        # global 변수 result2 값을 반환해 줍니다.\n",
        "\n",
        "\n",
        "\n",
        "print(add1(3))            # add1(3) --> 처음 result1 값은 0이기 때문에 0+3 이므로 3이 출력됩니다\n",
        "print(add1(4))            # result1이 global 변수이기 때문에 최근 계산한 결과값인 3을 유지해서 add1(4)는 3+4 이므로 7이 출력됩니다.\n",
        "\n",
        "print(add2(3))            # add2(3) --> 처음 result2 값은 0이기 때문에 0+3 이므로 3이 출력됩니다\n",
        "print(add2(7))            # result2가 global 변수이기 때문에 최근 계산한 결과값인 3을 유지해서 add2(7)는 3+7 이므로 10이 출력됩니다."
      ],
      "execution_count": null,
      "outputs": [
        {
          "output_type": "stream",
          "text": [
            "3\n",
            "7\n",
            "3\n",
            "10\n"
          ],
          "name": "stdout"
        }
      ]
    },
    {
      "cell_type": "code",
      "metadata": {
        "colab": {
          "base_uri": "https://localhost:8080/"
        },
        "id": "d-ybq4wcDw8t",
        "outputId": "c917a35d-8ad7-40ba-d64b-af15eba9c52b"
      },
      "source": [
        "result1, result2     # result1 , result2 를 출력하면 (7,10)이 출력되는 것을 확인할 수 있습니다."
      ],
      "execution_count": null,
      "outputs": [
        {
          "output_type": "execute_result",
          "data": {
            "text/plain": [
              "(7, 10)"
            ]
          },
          "metadata": {
            "tags": []
          },
          "execution_count": 7
        }
      ]
    },
    {
      "cell_type": "code",
      "metadata": {
        "colab": {
          "base_uri": "https://localhost:8080/"
        },
        "id": "OmgDp7OrD0LI",
        "outputId": "1398fa08-ae84-43fa-a489-aa4f9f108ece"
      },
      "source": [
        "print(\"계산기 1의 결괏값이 계산기 2에 아무 영향을 끼치지 않음을 확인할 수 있다.\")\n",
        "print(\"하지만 계산기가 3개, 5개, 10개로 점점 더 많이 필요해진다면 어떻게 해야 할까? 그때마다 전역 변수와 함수를 추가할 것인가?\")\n",
        "print(\"-->\", \"클래스를 사용하면 간단하게 해결이 됩니다.\")"
      ],
      "execution_count": null,
      "outputs": [
        {
          "output_type": "stream",
          "text": [
            "계산기 1의 결괏값이 계산기 2에 아무 영향을 끼치지 않음을 확인할 수 있다.\n",
            "하지만 계산기가 3개, 5개, 10개로 점점 더 많이 필요해진다면 어떻게 해야 할까? 그때마다 전역 변수와 함수를 추가할 것인가?\n",
            "--> 클래스를 사용하면 간단하게 해결이 됩니다.\n"
          ],
          "name": "stdout"
        }
      ]
    },
    {
      "cell_type": "markdown",
      "metadata": {
        "id": "H82TkOJiD7jk"
      },
      "source": [
        "**클래스를 설계**"
      ]
    },
    {
      "cell_type": "code",
      "metadata": {
        "colab": {
          "base_uri": "https://localhost:8080/"
        },
        "id": "ZPuXiox4D8_X",
        "outputId": "bbb84a30-8690-42f4-eb4a-75b78962d2ad"
      },
      "source": [
        "#######################################\n",
        "print(\"클래스를 사용하면 간단하게 해결\")\n",
        "#######################################\n",
        "\n",
        "# class Calculator     \n",
        "class Calculator:          # 클래스의 이름은 영어 알파벳 대문자로 시작해야 합니다.\n",
        "    def __init__(self):    # __init__() 함수: 클래스를 초기화시키는 함수입니다.   --> 클래스가 잘 작동할 수 있게 해주는 역할을 합니다. \n",
        "        self.result = 0    # self : 클래스 자기 자신을 가리킵니다.  # 클래스가 한번 초기화될 때마다 __init__() 함수가 실행이 되면서 클래스 안에 있는 객체변수 result를 0으로 초기화 시킵니다.\n",
        "\n",
        "    # 추가되는 함수에는 반드시 객체 자신을 가르키는 self 변수가 첫 번째 인수로 들어갑니다.\n",
        "    def add(self, num):             # 첫 번째 인수가 self 변수이고, 매개변수가 num인 add() 함수를 정의합니다.\n",
        "        self.result += num          # 현재 객체의 result 변수에 num 값을 더해줍니다.\n",
        "        return self.result          # 현재 객체에 들어있는 result 값을 반환해줍니다.\n",
        "    \n",
        "    # def sub(self, num):\n",
        "    #     self.result -= num\n",
        "    #     return self.result"
      ],
      "execution_count": null,
      "outputs": [
        {
          "output_type": "stream",
          "text": [
            "클래스를 사용하면 간단하게 해결\n"
          ],
          "name": "stdout"
        }
      ]
    },
    {
      "cell_type": "code",
      "metadata": {
        "colab": {
          "base_uri": "https://localhost:8080/"
        },
        "id": "uzsy_sKAELUa",
        "outputId": "0ce8bc67-f303-4191-bd2f-05a5c5cc1afd"
      },
      "source": [
        "# cal1은 add1의 기능을 하고, cal2는 add2의 기능을 한다고 볼 수 있습니다.\n",
        "\n",
        "cal1 = Calculator()     # Calculator 클래스의 객체 cal1을 만들어 줍니다.  # self는 객체 자신이기 때문에 넣을 필요가 없습니다.\n",
        "cal2 = Calculator()     # Calculator 클래스의 객체 cal2를 만들어 줍니다. \n",
        "\n",
        "# global 변수를 사용했을 때와 똑같은 결과값이 나옵니다.\n",
        "\n",
        "print(cal1.add(3))      # cal1의 처음 result 값이 0이기 때문에 0+3 이므로 3이 출력됩니다. \n",
        "print(cal1.add(4))      # cal1의 result 값에 최근에 계산한 결과값인 3이 저장이 되어 있어서 3+4 이므로 7이 출력됩니다.\n",
        "\n",
        "print(cal2.add(3))      # cal2의 처음 result 값이 0이기 떄문에 0+3 이므로 3이 출력됩니다.\n",
        "print(cal2.add(7))      # cal2의 result 값에 최근에 계산한 결과값인 3이 저장이 되어 있어서 3+7 이므로 10이 출력됩니다."
      ],
      "execution_count": null,
      "outputs": [
        {
          "output_type": "stream",
          "text": [
            "3\n",
            "7\n",
            "3\n",
            "10\n"
          ],
          "name": "stdout"
        }
      ]
    },
    {
      "cell_type": "code",
      "metadata": {
        "colab": {
          "base_uri": "https://localhost:8080/"
        },
        "id": "tqEaVYCeEN79",
        "outputId": "79d63e05-8d8b-4320-c247-c2a5bfc01314"
      },
      "source": [
        "cal3 = Calculator()\n",
        "cal3.add(10)     # cal3의 result 값에 num의 값인 10 말고는 들어있는 값이 없기 때문에 10이 출력됩니다."
      ],
      "execution_count": null,
      "outputs": [
        {
          "output_type": "execute_result",
          "data": {
            "text/plain": [
              "10"
            ]
          },
          "metadata": {
            "tags": []
          },
          "execution_count": 11
        }
      ]
    },
    {
      "cell_type": "code",
      "metadata": {
        "colab": {
          "base_uri": "https://localhost:8080/"
        },
        "id": "KkA4xWWcEO7H",
        "outputId": "6f081496-54f6-4068-fb48-4f8143f2fd38"
      },
      "source": [
        "cal3.add(40)     # cal3의 result 값에 최근에 계산한 결과값인 10이 저장이 되어 있어서 10+40 이므로 50이 출력됩니다."
      ],
      "execution_count": null,
      "outputs": [
        {
          "output_type": "execute_result",
          "data": {
            "text/plain": [
              "50"
            ]
          },
          "metadata": {
            "tags": []
          },
          "execution_count": 12
        }
      ]
    },
    {
      "cell_type": "markdown",
      "metadata": {
        "id": "g-4_71pkES7P"
      },
      "source": [
        "**뺄셈(sub)을 추가하고 클래스의 객체를 다시 만들어서 사용하기**"
      ]
    },
    {
      "cell_type": "code",
      "metadata": {
        "colab": {
          "base_uri": "https://localhost:8080/"
        },
        "id": "Zjvq96_1EVHH",
        "outputId": "583ef287-8ef3-4178-b0d3-3231e452b882"
      },
      "source": [
        "# 뺄셈(sub)을 추가하고 클래스의 객체를 다시 만들어서 사용한다.\n",
        "\n",
        "# class Calculator     \n",
        "class Calculator:          # 클래스의 이름은 영어 알파벳 대문자로 시작해야 합니다.\n",
        "    def __init__(self):    # __init__() 함수: 클래스를 초기화시키는 함수입니다.   --> 클래스가 잘 작동할 수 있게 해주는 역할을 합니다. \n",
        "        self.result = 0    # self : 클래스 자기 자신을 가리킵니다.  # 클래스가 한번 초기화될 때마다 __init__() 함수가 실행이 되면서 클래스 안에 있는 객체변수 result를 0으로 초기화 시킵니다.\n",
        "\n",
        "    # 추가되는 함수에는 반드시 객체 자신을 가르키는 self 변수가 첫 번째 인수로 들어갑니다.\n",
        "    def add(self, num):             # 첫 번째 인수가 self 변수이고, 매개변수가 num인 add() 함수를 정의합니다.\n",
        "        self.result += num          # 현재 객체의 result 변수에 num 값을 더해줍니다.\n",
        "        return self.result          # 현재 객체에 들어있는 result 값을 반환해줍니다.\n",
        "    \n",
        "    def sub(self, num):             # 첫 번째 인수가 self 변수이고, 매개변수가 num인 sub() 함수를 정의합니다.\n",
        "        self.result -= num          # 현재 객체의 result 변수에 num 값을 빼줍니다.\n",
        "        return self.result          # 현재 객체에 들어있는 result 값을 반환해줍니다.\n",
        "\n",
        "cal = Calculator()\n",
        "\n",
        "cal.add(100)        # cal.add()에 처음 result 값이 0이기 때문에 0+100 이므로 result 값에는 100이 들어갑니다.\n",
        "cal.sub(50)         # 위에 cal.add() 에서 result 값에 100이 들어갔기 때문에 cal.sub(50)을 해주면 100-50 이므로 result값에는 50이 들어가므로 50이 출력됩니다."
      ],
      "execution_count": null,
      "outputs": [
        {
          "output_type": "execute_result",
          "data": {
            "text/plain": [
              "50"
            ]
          },
          "metadata": {
            "tags": []
          },
          "execution_count": 13
        }
      ]
    },
    {
      "cell_type": "markdown",
      "metadata": {
        "id": "eOpFn60NEjGo"
      },
      "source": [
        "**클래스와 객체**"
      ]
    },
    {
      "cell_type": "code",
      "metadata": {
        "colab": {
          "base_uri": "https://localhost:8080/"
        },
        "id": "WCVF4sD-EkWv",
        "outputId": "b83174a8-35b2-49ef-e924-bb66b273751d"
      },
      "source": [
        "print(\"클래스와 객체\")\n",
        "print(\"--->\", \"클래스(class)란 똑같은 무엇인가를 계속해서 만들어 낼 수 있는 설계 도면\")\n",
        "print(\"--->\", \"객체(object)란 클래스로 만든 피조물(과자 틀을 사용해 만든 과자)\")\n",
        "print(\"-\", \"클래스(class) : 과자 틀\")\n",
        "print(\"-\", \"객체(object) : 과자 틀을 사용해 만든 과자\")\n",
        "print(\"**\", \"동일한 클래스로 만든 객체들은 서로 전혀 영향을 주지 않는다.\")"
      ],
      "execution_count": null,
      "outputs": [
        {
          "output_type": "stream",
          "text": [
            "클래스와 객체\n",
            "---> 클래스(class)란 똑같은 무엇인가를 계속해서 만들어 낼 수 있는 설계 도면\n",
            "---> 객체(object)란 클래스로 만든 피조물(과자 틀을 사용해 만든 과자)\n",
            "- 클래스(class) : 과자 틀\n",
            "- 객체(object) : 과자 틀을 사용해 만든 과자\n",
            "** 동일한 클래스로 만든 객체들은 서로 전혀 영향을 주지 않는다.\n"
          ],
          "name": "stdout"
        }
      ]
    },
    {
      "cell_type": "markdown",
      "metadata": {
        "id": "vmrGJJQtEnBe"
      },
      "source": [
        "**간단한 클래스와 객체**"
      ]
    },
    {
      "cell_type": "code",
      "metadata": {
        "colab": {
          "base_uri": "https://localhost:8080/"
        },
        "id": "vm4byPVtEwJe",
        "outputId": "b8c5626f-1f87-4394-b4ff-fec58573316f"
      },
      "source": [
        "# 만들어진 클래스의 객체는 독립적입니다.\n",
        "\n",
        "class Cookie:       # 클래스의 이름은 Cookie 입니다.\n",
        "    pass            # pass : 아무런 기능이 없는 Cookie 클래스를 만들어 줍니다.\n",
        "\n",
        "a = Cookie()        # Cookie 클래스의 객체 a를 만들어 줍니다.\n",
        "b = Cookie()        # Cookie 클래스의 객체 b를 만들어 줍니다.\n",
        "id(a), id(b), id(a) == id(b)       # a와 b는 서로 다른 객체이므로 서로 다른 id를 가집니다."
      ],
      "execution_count": null,
      "outputs": [
        {
          "output_type": "execute_result",
          "data": {
            "text/plain": [
              "(139670585770384, 139670585773008, False)"
            ]
          },
          "metadata": {
            "tags": []
          },
          "execution_count": 15
        }
      ]
    },
    {
      "cell_type": "markdown",
      "metadata": {
        "id": "CJ8LVyBNE7qS"
      },
      "source": [
        "**1. FourCal 클래스 구조 만들기**"
      ]
    },
    {
      "cell_type": "code",
      "metadata": {
        "colab": {
          "base_uri": "https://localhost:8080/"
        },
        "id": "Z4GNArJsE_o1",
        "outputId": "32f9e994-fd0e-4c0a-e285-de551ab886be"
      },
      "source": [
        "print(\"1. FourCal 클래스 구조 만들기\")\n",
        "\n",
        "class FourCal:      # 클래스의 이름은 FourCal입니다.\n",
        "    pass            # pass : 아무런 기능이 없는 Cookie 라는 클래스를 만들어 줍니다.\n",
        "\n",
        "\n",
        "# 객체 만들기\n",
        "a = FourCal()      # FourCal 클래스의 객체 a를 만들어 줍니다.\n",
        "type(a), id(a)     # a는 FourCal 클래스의 객체이기 때문에 type(a)를 출력하면 FourCal 클래스라는 것이 출력이 되고, id(a)를 하면 a의 메모리 주소가 출력이 됩니다."
      ],
      "execution_count": null,
      "outputs": [
        {
          "output_type": "stream",
          "text": [
            "1. FourCal 클래스 구조 만들기\n"
          ],
          "name": "stdout"
        },
        {
          "output_type": "execute_result",
          "data": {
            "text/plain": [
              "(__main__.FourCal, 139670585770896)"
            ]
          },
          "metadata": {
            "tags": []
          },
          "execution_count": 16
        }
      ]
    },
    {
      "cell_type": "markdown",
      "metadata": {
        "id": "iztWYlNmFCpn"
      },
      "source": [
        "**2. 객체에 숫자 지정할 수 있게 만들기**"
      ]
    },
    {
      "cell_type": "code",
      "metadata": {
        "colab": {
          "base_uri": "https://localhost:8080/"
        },
        "id": "qM7s3F1WFE1_",
        "outputId": "d57c7955-d6cc-4718-d6b4-e6291cbe42de"
      },
      "source": [
        "print(\"2. 객체에 숫자 지정할 수 있게 만들기\")\n",
        "# function setdata()  # method\n",
        "\n",
        "class FourCal:    # 클래스의 이름은 FourCal 입니다.\n",
        "   def setdata(self, first, second):      # 첫 번째 인수가 self이고, 매개변수가 first, second인 setdata() 함수를 정의합니다.. \n",
        "       self.first = first                 # first의 초기값을 설정해줍니다.\n",
        "       self.second = second               # second의 초기값을 설정해줍니다.\n",
        "a = FourCal()        # FourCal 클래스의 객체인 a를 만들어 줍니다.\n",
        "a.setdata(4, 2)      # a.setdata(4,2)  --> 4 : first 변수, 2 : second 변수\n",
        "\n",
        "# 객체 변수\n",
        "a.first   # self.first\n",
        "a.second  # self.second\n",
        "a.first, a.second"
      ],
      "execution_count": null,
      "outputs": [
        {
          "output_type": "stream",
          "text": [
            "2. 객체에 숫자 지정할 수 있게 만들기\n"
          ],
          "name": "stdout"
        },
        {
          "output_type": "execute_result",
          "data": {
            "text/plain": [
              "(4, 2)"
            ]
          },
          "metadata": {
            "tags": []
          },
          "execution_count": 17
        }
      ]
    },
    {
      "cell_type": "markdown",
      "metadata": {
        "id": "m-Cmo8UMFLm2"
      },
      "source": [
        "**객체를 이용하기**"
      ]
    },
    {
      "cell_type": "code",
      "metadata": {
        "colab": {
          "base_uri": "https://localhost:8080/"
        },
        "id": "t1IayQMfFPSB",
        "outputId": "688a0112-6965-4e3e-eff4-90578a08749b"
      },
      "source": [
        "a = FourCal()       # FourCal 클래스의 객체인 a를 만들어 줍니다.\n",
        "b = FourCal()       # FourCal 클래스의 객체인 b를 만들어 줍니다.\n",
        "\n",
        "print(a is b)       # a is b : a와 b는 같은가?? ---> 클래스의 객체들은 서로 독립적이기 때문에 다릅니다. 그렇기 때문에 False가 출력이 됩니다.\n",
        "\n",
        "type(a), id(a), type(b), id(b)      # a, b의 type은 FourCal 클래스라는 것이 출력이 되고, a 와 b의 메모리 주소는 다르게 출력이 됩니다.\n",
        "\n",
        "a.setdata(4, 2)      # a.setdata(4,2) ---> 4 :a의 first 변수, 2 : a의 second 변수 \n",
        "print(a.first)       # a.first를 출력하면 a의 first의 변수인 4가 출력이 됩니다.\n",
        "b.setdata(3, 7)      # b.setdata(3,7) ---> 3 : b의 first 변수, 7 : b의 second 변수\n",
        "print(b.first)       # b.first를 출력하면 b의 first의 변수인 3이 출력이 됩니다.\n",
        "\n",
        "\n",
        "print(a.first)  # what value?\n",
        "print(\"-->\", \"a 객체의 first 값은 b 객체의 first 값에 영향받지 않고 원래 값을 유지\")\n",
        "print(\"**\", \"클래스로 만든 객체의 객체변수는 다른 객체의 객체변수에 상관없이 독립적인 값을 유지\")\n",
        "\n",
        "id(a.first), id(b.first)"
      ],
      "execution_count": null,
      "outputs": [
        {
          "output_type": "stream",
          "text": [
            "False\n",
            "4\n",
            "3\n",
            "4\n",
            "--> a 객체의 first 값은 b 객체의 first 값에 영향받지 않고 원래 값을 유지\n",
            "** 클래스로 만든 객체의 객체변수는 다른 객체의 객체변수에 상관없이 독립적인 값을 유지\n"
          ],
          "name": "stdout"
        },
        {
          "output_type": "execute_result",
          "data": {
            "text/plain": [
              "(94029466421856, 94029466421824)"
            ]
          },
          "metadata": {
            "tags": []
          },
          "execution_count": 18
        }
      ]
    },
    {
      "cell_type": "markdown",
      "metadata": {
        "id": "8yr_l9tBFd3u"
      },
      "source": [
        "**3. 더하기 기능 만들기**"
      ]
    },
    {
      "cell_type": "code",
      "metadata": {
        "colab": {
          "base_uri": "https://localhost:8080/"
        },
        "id": "8yavUqIgFfAN",
        "outputId": "d3a4a6f1-31ea-4c14-996b-3bf6190b689c"
      },
      "source": [
        "print(\"3. 더하기 기능 만들기\")\n",
        "# function add()  # method\n",
        "\n",
        "class FourCal:      # 클래스의 이름은 FourCal입니다. \n",
        "    def setdata(self, first, second):    # 첫 번째 인수가 self고, 매개변수가 first, second인 setdata() 함수를 정의합니다.\n",
        "        self.first = first\n",
        "        self.second = second\n",
        "\n",
        "    def add(self):                       \n",
        "        result = self.first + self.second          # result 값에는 first 변수와 second 변수의 값을 더한 값이 들어갑니다.\n",
        "        return result                              # 위에서 first 변수와 second 변수를 더해준 값인 result 값을 반환해줍니다.\n",
        "\n",
        "a = FourCal()       # FourCal 클래스의 객체인 a를 만들어줍니다.\n",
        "a.setdata(4, 2)     # a.setdata(4,2) --> 4 : a의 first 변수, 2 : a의 second 변수\n",
        "a.add()             # a의 first 변수인 4와 a의 second 변수인 2를 더해준 값인 6이 출력됩니다."
      ],
      "execution_count": null,
      "outputs": [
        {
          "output_type": "stream",
          "text": [
            "3. 더하기 기능 만들기\n"
          ],
          "name": "stdout"
        },
        {
          "output_type": "execute_result",
          "data": {
            "text/plain": [
              "6"
            ]
          },
          "metadata": {
            "tags": []
          },
          "execution_count": 19
        }
      ]
    },
    {
      "cell_type": "markdown",
      "metadata": {
        "id": "oWeQy7QPFnVO"
      },
      "source": [
        "**4. 곱하기, 빼기, 나누기 기능 추가**"
      ]
    },
    {
      "cell_type": "code",
      "metadata": {
        "colab": {
          "base_uri": "https://localhost:8080/"
        },
        "id": "NyvWYotoFzEs",
        "outputId": "7218f3e4-4730-48d9-c772-346c20ca7b3e"
      },
      "source": [
        "print(\"4. 곱하기, 빼기, 나누기 기능 추가\")\n",
        "# function sub(), mul(), div()\n",
        "\n",
        "class FourCal:          # 클래스의 이름은 FourCal입니다.\n",
        "      def setdata(self, first, second):        # 첫 번째 인수가 self고, 매개변수가 first, second인 setdata() 함수를 정의합니다.\n",
        "        self.first = first\n",
        "        self.second = second\n",
        "        \n",
        "      def add(self):\n",
        "        result = self.first + self.second     # result 값에는 first 변수와 second 변수의 값을 더한 값이 들어갑니다\n",
        "        return result                         # 위에서 first 변수와 second 변수를 더해준 값인 result 값을 반환해줍니다.\n",
        "\n",
        "      def sub(self):\n",
        "        result = self.first - self.second      # result 값에는 first 변수와 second 변수의 값을 뺀 값이 들어갑니다.\n",
        "        return result                          # 위에서 first 변수와 second 변수를 뺀 값인 result 값을 반환해줍니다.\n",
        "\n",
        "      def mul(self):\n",
        "        result = self.first * self.second      # result 값에는 first 변수와 second 변수의 값을 곱한 값이 들어갑니다.\n",
        "        return result                          # 위에서 first 변수와 second 변수를 곱한 값인 result 값을 반환해줍니다.\n",
        "\n",
        "      def div(self):\n",
        "        result = self.first / self.second      # result 값에는 first 변수와 second 변수의 값을 나눈 값이 들어갑니다.\n",
        "        return result                          # 위에서 first 변수와 second 변수를 나눈 값인 result 값을 반환해줍니다.\n",
        "\n",
        "\n",
        "a = FourCal()    # FourCal 클래스의 객체인 a를 만들어줍니다.\n",
        "b = FourCal()    # FourCal 클래스의 객체인 b를 만들어줍니다.\n",
        "\n",
        "a.setdata(4, 2)  # a.setdata(4,2) --> 4 : a의 first 변수, 2 : a의 second 변수\n",
        "b.setdata(3, 8)  # b.setdata(3,8) --> 3 : b의 first 변수, 8 : b의 second 변수\n",
        "\n",
        "print(a.add(), a.sub(), a.mul(), a.div())  \n",
        "\n",
        "# a.add() --> a의 first 변수인 4와 a의 second 변수인 2를 더해준 값인 6이 출력됩니다.\n",
        "# a.sub() --> a의 first 변수인 4와 a의 second 변수인 2를 뺀 값인 2가 출력됩니다.\n",
        "# a.mul() --> a의 first 변수인 4와 a의 second 변수인 2를 곱해준 값인 8이 출력됩니다.\n",
        "# a.div() --> a의 first 변수인 4와 a의 second 변수인 2를 나눈 값인 2.0이 출력됩니다.(2.0이 출력되는 이유는 파이썬에서는 실수의 나눗셈으로 실행이 되기 때문입니다.)\n",
        "\n",
        "print(b.add(), b.sub(), b.mul(), b.div())\n",
        "\n",
        "# b.add() --> b의 first 변수인 3과 b의 second 변수인 8를 더해준 값인 11이 출력됩니다.\n",
        "# b.sub() --> b의 first 변수인 3과 b의 second 변수인 8를 뺀 값인 -5가 출력됩니다.\n",
        "# b.mul() --> b의 first 변수인 3과 b의 second 변수인 8를 곱한 값인 24가 출력됩니다.\n",
        "# b.div() --> b의 first 변수인 3과 b의 second 변수인 8를 나눈 값인 0.375가 출력됩니다."
      ],
      "execution_count": null,
      "outputs": [
        {
          "output_type": "stream",
          "text": [
            "4. 곱하기, 빼기, 나누기 기능 추가\n",
            "6 2 8 2.0\n",
            "11 -5 24 0.375\n"
          ],
          "name": "stdout"
        }
      ]
    },
    {
      "cell_type": "markdown",
      "metadata": {
        "id": "YNGMW1T7GCyI"
      },
      "source": [
        "**생성자(Constructor)**"
      ]
    },
    {
      "cell_type": "code",
      "metadata": {
        "colab": {
          "base_uri": "https://localhost:8080/",
          "height": 380
        },
        "id": "aWeqJE1vGEXH",
        "outputId": "11a36eb2-4e87-4d13-c985-c1baa06136a7"
      },
      "source": [
        "print(\"생성자 (Constructor)\")\n",
        "#######################################\n",
        "#\n",
        "# __init__()\n",
        "#\n",
        "\n",
        "a = FourCal()   # FourCal의 객체 변수 a를 만들어 줍니다.\n",
        "a.add()         # setdata() 함수를 호출을 하지 않고 (=first와 second의 변수를 지정하지 않고) add() 함수를 호출합니다.\n",
        "\n",
        "# FourCal 클래스에는 first 변수가 존재하지 않기 때문에 오류가 납니다.     #  AttributeError"
      ],
      "execution_count": null,
      "outputs": [
        {
          "output_type": "stream",
          "text": [
            "생성자 (Constructor)\n"
          ],
          "name": "stdout"
        },
        {
          "output_type": "error",
          "ename": "AttributeError",
          "evalue": "ignored",
          "traceback": [
            "\u001b[0;31m---------------------------------------------------------------------------\u001b[0m",
            "\u001b[0;31mAttributeError\u001b[0m                            Traceback (most recent call last)",
            "\u001b[0;32m<ipython-input-22-2241b42856a0>\u001b[0m in \u001b[0;36m<module>\u001b[0;34m()\u001b[0m\n\u001b[1;32m      6\u001b[0m \u001b[0;34m\u001b[0m\u001b[0m\n\u001b[1;32m      7\u001b[0m \u001b[0ma\u001b[0m \u001b[0;34m=\u001b[0m \u001b[0mFourCal\u001b[0m\u001b[0;34m(\u001b[0m\u001b[0;34m)\u001b[0m   \u001b[0;31m# FourCal의 객체 변수 a를 만들어 줍니다.\u001b[0m\u001b[0;34m\u001b[0m\u001b[0;34m\u001b[0m\u001b[0m\n\u001b[0;32m----> 8\u001b[0;31m \u001b[0ma\u001b[0m\u001b[0;34m.\u001b[0m\u001b[0madd\u001b[0m\u001b[0;34m(\u001b[0m\u001b[0;34m)\u001b[0m         \u001b[0;31m# setdata() 함수를 호출을 하지 않고 (=first와 second의 변수를 지정하지 않고) add() 함수를 호출합니다.\u001b[0m\u001b[0;34m\u001b[0m\u001b[0;34m\u001b[0m\u001b[0m\n\u001b[0m\u001b[1;32m      9\u001b[0m \u001b[0;34m\u001b[0m\u001b[0m\n\u001b[1;32m     10\u001b[0m \u001b[0;31m# FourCal 클래스에는 first 변수가 존재하지 않기 때문에 오류가 납니다.     #  AttributeError\u001b[0m\u001b[0;34m\u001b[0m\u001b[0;34m\u001b[0m\u001b[0;34m\u001b[0m\u001b[0m\n",
            "\u001b[0;32m<ipython-input-21-3b88e3c9a290>\u001b[0m in \u001b[0;36madd\u001b[0;34m(self)\u001b[0m\n\u001b[1;32m      8\u001b[0m \u001b[0;34m\u001b[0m\u001b[0m\n\u001b[1;32m      9\u001b[0m       \u001b[0;32mdef\u001b[0m \u001b[0madd\u001b[0m\u001b[0;34m(\u001b[0m\u001b[0mself\u001b[0m\u001b[0;34m)\u001b[0m\u001b[0;34m:\u001b[0m\u001b[0;34m\u001b[0m\u001b[0;34m\u001b[0m\u001b[0m\n\u001b[0;32m---> 10\u001b[0;31m         \u001b[0mresult\u001b[0m \u001b[0;34m=\u001b[0m \u001b[0mself\u001b[0m\u001b[0;34m.\u001b[0m\u001b[0mfirst\u001b[0m \u001b[0;34m+\u001b[0m \u001b[0mself\u001b[0m\u001b[0;34m.\u001b[0m\u001b[0msecond\u001b[0m     \u001b[0;31m# result 값에는 first 변수와 second 변수의 값을 더한 값이 들어갑니다\u001b[0m\u001b[0;34m\u001b[0m\u001b[0;34m\u001b[0m\u001b[0m\n\u001b[0m\u001b[1;32m     11\u001b[0m         \u001b[0;32mreturn\u001b[0m \u001b[0mresult\u001b[0m                         \u001b[0;31m# 위에서 first 변수와 second 변수를 더해준 값인 result 값을 반환해줍니다.\u001b[0m\u001b[0;34m\u001b[0m\u001b[0;34m\u001b[0m\u001b[0m\n\u001b[1;32m     12\u001b[0m \u001b[0;34m\u001b[0m\u001b[0m\n",
            "\u001b[0;31mAttributeError\u001b[0m: 'FourCal' object has no attribute 'first'"
          ]
        }
      ]
    },
    {
      "cell_type": "code",
      "metadata": {
        "colab": {
          "base_uri": "https://localhost:8080/",
          "height": 239
        },
        "id": "11en6wOcGPfe",
        "outputId": "2c25c141-7b1c-4c09-cb90-7c71d88c129c"
      },
      "source": [
        "class FourCal:\n",
        "    def __init__(self, first, second):\n",
        "        self.first = first\n",
        "        self.second = second\n",
        "\n",
        "    def setdata(self, first, second):\n",
        "        self.first = first\n",
        "        self.second = second\n",
        "        \n",
        "    def add(self):\n",
        "        result = self.first + self.second\n",
        "        return result\n",
        "\n",
        "    def sub(self):\n",
        "        result = self.first - self.second\n",
        "        return result\n",
        "\n",
        "    def mul(self):\n",
        "        result = self.first * self.second\n",
        "        return result\n",
        "\n",
        "    def div(self):\n",
        "        result = self.first / self.second\n",
        "        return result\n",
        "\n",
        "a = FourCal()   \n",
        "\n",
        "# ForCal 클래스의 객체인 a 안에 first, second 변수가 없기 때문에 에러가 뜹니다.     # TypeError"
      ],
      "execution_count": null,
      "outputs": [
        {
          "output_type": "error",
          "ename": "TypeError",
          "evalue": "ignored",
          "traceback": [
            "\u001b[0;31m---------------------------------------------------------------------------\u001b[0m",
            "\u001b[0;31mTypeError\u001b[0m                                 Traceback (most recent call last)",
            "\u001b[0;32m<ipython-input-25-7f5746151679>\u001b[0m in \u001b[0;36m<module>\u001b[0;34m()\u001b[0m\n\u001b[1;32m     24\u001b[0m         \u001b[0;32mreturn\u001b[0m \u001b[0mresult\u001b[0m\u001b[0;34m\u001b[0m\u001b[0;34m\u001b[0m\u001b[0m\n\u001b[1;32m     25\u001b[0m \u001b[0;34m\u001b[0m\u001b[0m\n\u001b[0;32m---> 26\u001b[0;31m \u001b[0ma\u001b[0m \u001b[0;34m=\u001b[0m \u001b[0mFourCal\u001b[0m\u001b[0;34m(\u001b[0m\u001b[0;34m)\u001b[0m\u001b[0;34m\u001b[0m\u001b[0;34m\u001b[0m\u001b[0m\n\u001b[0m\u001b[1;32m     27\u001b[0m \u001b[0;34m\u001b[0m\u001b[0m\n\u001b[1;32m     28\u001b[0m \u001b[0;31m# ForCal 클래스의 객체인 a 안에 first, second 변수가 없기 때문에 에러가 뜹니다.     # TypeError\u001b[0m\u001b[0;34m\u001b[0m\u001b[0;34m\u001b[0m\u001b[0;34m\u001b[0m\u001b[0m\n",
            "\u001b[0;31mTypeError\u001b[0m: __init__() missing 2 required positional arguments: 'first' and 'second'"
          ]
        }
      ]
    },
    {
      "cell_type": "code",
      "metadata": {
        "colab": {
          "base_uri": "https://localhost:8080/"
        },
        "id": "lqXIGLvGGWe3",
        "outputId": "b733bdad-94b9-471f-a8d4-15bbcbb92dc4"
      },
      "source": [
        "a = FourCal(4, 2)        # a = FourCal(4,2) --> 4 : a의 first 변수, 2 : a의 second 변수\n",
        "\n",
        "print(a.first, a.second)    # a.first : 4, a.second : 2 --> 4와 2가 출력됩니다.\n",
        "\n",
        "a.mul(), a.div()     # a의 first의 변수인 4와 a의 second의 변수인 2를 곱한 값인 8이 출력됩니다.  \n",
        "                     # a의 first의 변수인 4와 a의 second의 변수인 2를 나눈 값인 2.0이 출력됩니다.(2.0이 출력되는 이유는 파이썬에서는 실수의 나눗셈이 실행되기 때문입니다.)"
      ],
      "execution_count": null,
      "outputs": [
        {
          "output_type": "stream",
          "text": [
            "4 2\n"
          ],
          "name": "stdout"
        },
        {
          "output_type": "execute_result",
          "data": {
            "text/plain": [
              "(8, 2.0)"
            ]
          },
          "metadata": {
            "tags": []
          },
          "execution_count": 26
        }
      ]
    },
    {
      "cell_type": "markdown",
      "metadata": {
        "id": "y1D3GuJnGe5q"
      },
      "source": [
        "**클래스의 상속**"
      ]
    },
    {
      "cell_type": "code",
      "metadata": {
        "colab": {
          "base_uri": "https://localhost:8080/"
        },
        "id": "ePelWdMgGifQ",
        "outputId": "b121de9f-51ea-4459-c6df-98615140a96b"
      },
      "source": [
        "print(\"클래스의 상속\")\n",
        "print(\"-->\", \"상속은 기존 클래스를 변경하지 않고 기능을 추가하거나 기존 기능을 변경하려고 할 때 사용합니다.\")\n",
        "\n",
        "print(\"만드는 방법-->\", \"class 클래스 이름(상속할 클래스 이름)\")\n",
        "# \n",
        "# 클래스 FourCal를 상속하는 \n",
        "# class MoreFourCal\n",
        "# FourCal 클래스에 a^b (a의 b제곱)을 구할 수 있는 기능을 추가\n",
        "#\n",
        "\n",
        "class MoreFourCal(FourCal):         # 클래스 이름은 MoreFourCal이고, 상속할 클래스 이름은 FourCal 입니다.\n",
        "    pass                            # pass : 아무런 기능이 없는 MoreFourCal 클래스를 만들어 줍니다.\n",
        "\n",
        "\n",
        "a = MoreFourCal(4, 2)               # MoreFourCal 객체인 a를 만들어줍니다.  \n",
        "                                    # a = MoreFourCal(4,2) --> a의 first변수 : 4, a의 second 변수 : 2\n",
        "a.add(), a.mul()                    # a.add() -> a의 first의 변수 4와 a의 second의 변수 2를 더한 값인 6이 출력됩니다.\n",
        "                                    # a.mul() -> a의 first의 변수 4와 a의 second의 변수 2를 곱한 값이 8이 출력됩니다."
      ],
      "execution_count": null,
      "outputs": [
        {
          "output_type": "stream",
          "text": [
            "클래스의 상속\n",
            "--> 상속은 기존 클래스를 변경하지 않고 기능을 추가하거나 기존 기능을 변경하려고 할 때 사용합니다.\n",
            "만드는 방법--> class 클래스 이름(상속할 클래스 이름)\n"
          ],
          "name": "stdout"
        },
        {
          "output_type": "execute_result",
          "data": {
            "text/plain": [
              "(6, 8)"
            ]
          },
          "metadata": {
            "tags": []
          },
          "execution_count": 27
        }
      ]
    },
    {
      "cell_type": "markdown",
      "metadata": {
        "id": "LYwTKrNiGpJf"
      },
      "source": [
        "**MoreFourCal**"
      ]
    },
    {
      "cell_type": "code",
      "metadata": {
        "colab": {
          "base_uri": "https://localhost:8080/"
        },
        "id": "NK_Cffy_GqQK",
        "outputId": "6e70dc12-8b59-49c5-9a09-f7cf12261091"
      },
      "source": [
        "class MoreFourCal(FourCal):                  # 클래스 이름은 MoreFourCal이고, 상속할 클래스 이름은 FourCal 입니다.\n",
        "    def pow(self):                           # pow() 함수를 정의합니다.\n",
        "        result = self.first ** self.second   # first 변수 ^ second 변수의 값을 result에 넣습니다.\n",
        "        return result                        # first 변수 ^ second 변수의 값을 넣은 result 값을 반환해줍니다.\n",
        "    \n",
        "\n",
        "a = MoreFourCal(4, 2)               # MoreFourCal 객체인 a를 만들어줍니다.  # 4 : a의 first의 변수, 2 : a의 second의 변수\n",
        "print(a.add(), a.mul())             # a.add() -> a의 first의 변수 4와 a의 second의 변수 2를 더한 값인 6이 출력됩니다.\n",
        "                                    # a.mul() -> a의 first의 변수 4와 a의 second의 변수 2를 곱한 값이 8이 출력됩니다.\n",
        "a.pow()          # a.pow() --> first**second 계산이기 때문에 4^2 이므로 16이 출력됩니다.\n",
        "\n",
        "# 상속은 MoreFourCal 클래스처럼 기존 클래스(FourCal)는 \n",
        "# 그대로 놔둔 채 클래스의 기능을 확장시킬 때 주로 사용."
      ],
      "execution_count": null,
      "outputs": [
        {
          "output_type": "stream",
          "text": [
            "6 8\n"
          ],
          "name": "stdout"
        },
        {
          "output_type": "execute_result",
          "data": {
            "text/plain": [
              "16"
            ]
          },
          "metadata": {
            "tags": []
          },
          "execution_count": 28
        }
      ]
    },
    {
      "cell_type": "markdown",
      "metadata": {
        "id": "Wktryev3Gsle"
      },
      "source": [
        "**메서드 오버라이딩(재정의)**"
      ]
    },
    {
      "cell_type": "code",
      "metadata": {
        "colab": {
          "base_uri": "https://localhost:8080/",
          "height": 380
        },
        "id": "_uSRx4JgGw7Q",
        "outputId": "71b6a585-fe92-4f9d-9509-ad5d218548d9"
      },
      "source": [
        "print(\"메서드 오버라이딩\")\n",
        "# 기존의 함수(메소드)를 수정/보완하여 재정의\n",
        "#######################################\n",
        "# \n",
        "a = FourCal(4, 0)   # a = FourCal(4,0) -> 4 : a의 first 변수, 0 : a의 second 변수\n",
        "a.div()             # a.div() -> a의 first 변수와 a의 second 변수를 나눈 값이 출력됩니다.\n",
        "\n",
        "# 0으로 어떤 수를 나눌 수 없기 때문에 에러가 뜹니다.\n",
        "# ZeroDivisionError: division by zero"
      ],
      "execution_count": null,
      "outputs": [
        {
          "output_type": "stream",
          "text": [
            "메서드 오버라이딩\n"
          ],
          "name": "stdout"
        },
        {
          "output_type": "error",
          "ename": "ZeroDivisionError",
          "evalue": "ignored",
          "traceback": [
            "\u001b[0;31m---------------------------------------------------------------------------\u001b[0m",
            "\u001b[0;31mZeroDivisionError\u001b[0m                         Traceback (most recent call last)",
            "\u001b[0;32m<ipython-input-29-18f9bcef7fff>\u001b[0m in \u001b[0;36m<module>\u001b[0;34m()\u001b[0m\n\u001b[1;32m      4\u001b[0m \u001b[0;31m#\u001b[0m\u001b[0;34m\u001b[0m\u001b[0;34m\u001b[0m\u001b[0;34m\u001b[0m\u001b[0m\n\u001b[1;32m      5\u001b[0m \u001b[0ma\u001b[0m \u001b[0;34m=\u001b[0m \u001b[0mFourCal\u001b[0m\u001b[0;34m(\u001b[0m\u001b[0;36m4\u001b[0m\u001b[0;34m,\u001b[0m \u001b[0;36m0\u001b[0m\u001b[0;34m)\u001b[0m   \u001b[0;31m# a = FourCal(4,0) -> 4 : a의 first 변수, 0 : a의 second 변수\u001b[0m\u001b[0;34m\u001b[0m\u001b[0;34m\u001b[0m\u001b[0m\n\u001b[0;32m----> 6\u001b[0;31m \u001b[0ma\u001b[0m\u001b[0;34m.\u001b[0m\u001b[0mdiv\u001b[0m\u001b[0;34m(\u001b[0m\u001b[0;34m)\u001b[0m             \u001b[0;31m# a.div() -> a의 first 변수와 a의 second 변수를 나눈 값이 출력됩니다.\u001b[0m\u001b[0;34m\u001b[0m\u001b[0;34m\u001b[0m\u001b[0m\n\u001b[0m\u001b[1;32m      7\u001b[0m \u001b[0;34m\u001b[0m\u001b[0m\n\u001b[1;32m      8\u001b[0m \u001b[0;31m# 0으로 어떤 수를 나눌 수 없기 때문에 에러가 뜹니다.\u001b[0m\u001b[0;34m\u001b[0m\u001b[0;34m\u001b[0m\u001b[0;34m\u001b[0m\u001b[0m\n",
            "\u001b[0;32m<ipython-input-25-7f5746151679>\u001b[0m in \u001b[0;36mdiv\u001b[0;34m(self)\u001b[0m\n\u001b[1;32m     21\u001b[0m \u001b[0;34m\u001b[0m\u001b[0m\n\u001b[1;32m     22\u001b[0m     \u001b[0;32mdef\u001b[0m \u001b[0mdiv\u001b[0m\u001b[0;34m(\u001b[0m\u001b[0mself\u001b[0m\u001b[0;34m)\u001b[0m\u001b[0;34m:\u001b[0m\u001b[0;34m\u001b[0m\u001b[0;34m\u001b[0m\u001b[0m\n\u001b[0;32m---> 23\u001b[0;31m         \u001b[0mresult\u001b[0m \u001b[0;34m=\u001b[0m \u001b[0mself\u001b[0m\u001b[0;34m.\u001b[0m\u001b[0mfirst\u001b[0m \u001b[0;34m/\u001b[0m \u001b[0mself\u001b[0m\u001b[0;34m.\u001b[0m\u001b[0msecond\u001b[0m\u001b[0;34m\u001b[0m\u001b[0;34m\u001b[0m\u001b[0m\n\u001b[0m\u001b[1;32m     24\u001b[0m         \u001b[0;32mreturn\u001b[0m \u001b[0mresult\u001b[0m\u001b[0;34m\u001b[0m\u001b[0;34m\u001b[0m\u001b[0m\n\u001b[1;32m     25\u001b[0m \u001b[0;34m\u001b[0m\u001b[0m\n",
            "\u001b[0;31mZeroDivisionError\u001b[0m: division by zero"
          ]
        }
      ]
    },
    {
      "cell_type": "code",
      "metadata": {
        "colab": {
          "base_uri": "https://localhost:8080/"
        },
        "id": "tsrrQ5HCG1PY",
        "outputId": "d8280c65-ee82-44c5-9e72-8f37ab87013b"
      },
      "source": [
        "class SafeFourCal(FourCal):           # 클래스 이름은 SafeFourCal이고, 상속할 클래스 이름은 FourCal 입니다.\n",
        "    def div(self):                    # div() 함수를 정의\n",
        "        if self.second == 0:          # 나누는 값이 0인 경우 0을 리턴하도록 수정    \n",
        "            print(\"분모는 0을 사용할 수 없다.\")     # 나누는 값이 0인 경우 '분모는 0을 사용할 수 없다.'\n",
        "            return 0                                # 분모가 0인 경우 0을 반환해줍니다.\n",
        "        else:       # 분모가 0이 아닌 경우\n",
        "            return self.first / self.second      # firsrt 변수와 second 변수를 나눈 값이 반환됩니다.     \n",
        "\n",
        "\n",
        "a = SafeFourCal(4, 0)       # SelfFourCal 객체인 a를 만들어줍니다.  # 4 : a의 first 변수, 0 : a의 second 변수\n",
        "\n",
        "a.div()  # 메서드 오버라이딩 사용    # 나누는 값이 0인 경우 '분모는 0을 사용할 수 없다.'와 0을 리턴해주고, 나누는 값이 0이 아닌 경우 first 변수와 second 변수를나눈 값이 반환됩니다."
      ],
      "execution_count": null,
      "outputs": [
        {
          "output_type": "stream",
          "text": [
            "분모는 0을 사용할 수 없다.\n"
          ],
          "name": "stdout"
        },
        {
          "output_type": "execute_result",
          "data": {
            "text/plain": [
              "0"
            ]
          },
          "metadata": {
            "tags": []
          },
          "execution_count": 30
        }
      ]
    },
    {
      "cell_type": "code",
      "metadata": {
        "colab": {
          "base_uri": "https://localhost:8080/"
        },
        "id": "Vu3v5yJwG4sd",
        "outputId": "0f03742b-95bf-4e54-b690-312bf8eb3f53"
      },
      "source": [
        "b = SafeFourCal(4,2)      # SelfFourCal 객체인 b를 만들어줍니다.  # 4 : a의 first 변수, 2 : b의 second 변수\n",
        "b.div()                   # 나누는 값이 0인 경우 '분모는 0을 사용할 수 없다.'와 0을 리턴해주고, 나누는 값이 0이 아닌 경우 first 변수와 second 변수를나눈 값이 반환됩니다."
      ],
      "execution_count": null,
      "outputs": [
        {
          "output_type": "execute_result",
          "data": {
            "text/plain": [
              "2.0"
            ]
          },
          "metadata": {
            "tags": []
          },
          "execution_count": 31
        }
      ]
    },
    {
      "cell_type": "markdown",
      "metadata": {
        "id": "ulwAY8ntHGnF"
      },
      "source": [
        "**클래스 변수**"
      ]
    },
    {
      "cell_type": "code",
      "metadata": {
        "colab": {
          "base_uri": "https://localhost:8080/"
        },
        "id": "KmXP6e8NHIaF",
        "outputId": "00497d40-1bf6-42a6-e58c-82ccd83e5980"
      },
      "source": [
        "print(\"클래스 변수\")\n",
        "print(\"객체변수와 클래스변수의 차이?\")\n",
        "print(\"-\", \"객체변수   :   객체.변수\")\n",
        "print(\"-\", \"클래스변수 : 클래스.변수\")\n",
        "\n",
        "class Family:\n",
        "    lastname = \"김\"   # 클래스변수   #  클래스 변수: 클래스에 직접적으로 정의되는 변수입니다.\n",
        "\n",
        "# 클래스이름.클래스 변수로 사용\n",
        "Family.lastname     # 객체를 통하지 않고 바로 접근이 가능합니다.\n",
        "\n",
        "# 객체변수로 접근 \n",
        "a = Family()    # Family 객체인 a를 만들어줍니다.\n",
        "b = Family()    # Family 객체인 b를 만들어줍니다.\n",
        "\n",
        "# 객체변수 a,b는 서로 독립이지만 클래스 변수는 똑같기 때문에 메모리 주소가 같습니다.\n",
        "print(a.lastname)    \n",
        "print(b.lastname)\n",
        "id(a.lastname), id(b.lastname), id(a.lastname) == id(b.lastname)\n",
        "\n",
        "# 클래스변수를 변경하면?\n",
        "Family.lastname = \"박\"\n",
        "\n",
        "# 클래스 변수를 변경해도 같은 주소를 공유합니다.\n",
        "\n",
        "print(a.lastname)\n",
        "print(b.lastname)\n",
        "id(a.lastname), id(b.lastname), id(Family.lastname)\n",
        "# 클래스 변수가 공유됨을 확인.\n",
        "\n",
        "# 객체변수를 변경하면?\n",
        "# 변경된 해당 객체만 변경이 됩니다.\n",
        "# 변경된 객체 변수는 메모리 주소도 변경됩니다.\n",
        "\n",
        "a.lastname = \"이\"      # a.lastname을 '이'로 변경해줍니다.\n",
        "\n",
        "print(a.lastname, b.lastname, Family.lastname)    # a.lastname = '이', b.lastname = '박', Family.lastname = '박'이 출력됩니다.\n",
        "\n",
        "id(a.lastname), id(b.lastname), id(Family.lastname)    # 변경된 a.lastname의 메모리 주소와 변경되지 않은 b.lastname, Family.lastname 메모리 주소는 다릅니다.\n",
        "\n",
        "# 실무 프로그래밍에는 클래스 변수보다는 객체변수를 많이 사용."
      ],
      "execution_count": null,
      "outputs": [
        {
          "output_type": "stream",
          "text": [
            "클래스 변수\n",
            "객체변수와 클래스변수의 차이?\n",
            "- 객체변수   :   객체.변수\n",
            "- 클래스변수 : 클래스.변수\n",
            "김\n",
            "김\n",
            "박\n",
            "박\n",
            "이 박 박\n"
          ],
          "name": "stdout"
        },
        {
          "output_type": "execute_result",
          "data": {
            "text/plain": [
              "(139670585480256, 139670585479936, 139670585479936)"
            ]
          },
          "metadata": {
            "tags": []
          },
          "execution_count": 32
        }
      ]
    },
    {
      "cell_type": "markdown",
      "metadata": {
        "id": "0Y4xW_UHHbDh"
      },
      "source": [
        "**모듈(module)**"
      ]
    },
    {
      "cell_type": "code",
      "metadata": {
        "colab": {
          "base_uri": "https://localhost:8080/"
        },
        "id": "wU22OvO2HeIF",
        "outputId": "273b89b1-aed7-4a6f-c70c-bcfb99be8f88"
      },
      "source": [
        "# ch5_02_module.py\n",
        "#\n",
        "print(\"모듈이란 무엇인가?\")\n",
        "print(\"-->\", \"모듈이란 함수나 변수 또는 클래스를 모아 놓은 파이썬 파일\")"
      ],
      "execution_count": null,
      "outputs": [
        {
          "output_type": "stream",
          "text": [
            "모듈이란 무엇인가?\n",
            "--> 모듈이란 함수나 변수 또는 클래스를 모아 놓은 파이썬 파일\n"
          ],
          "name": "stdout"
        }
      ]
    },
    {
      "cell_type": "markdown",
      "metadata": {
        "id": "b69ElfiLHiiq"
      },
      "source": [
        "**모듈 만들기**"
      ]
    },
    {
      "cell_type": "code",
      "metadata": {
        "colab": {
          "base_uri": "https://localhost:8080/",
          "height": 35
        },
        "id": "NTrl4rbeHj3x",
        "outputId": "41595635-ca2d-4655-84e8-9aa1e47a119a"
      },
      "source": [
        "# mod1.py를 현재 폴더에 저장\n",
        "'''\n",
        "# mod1.py\n",
        "def add(a, b):\n",
        "    return a + b\n",
        "def sub(a, b): \n",
        "    return a-b\n",
        "'''\n",
        "\n",
        "# 파이썬 확장자 .py로 만든 파이썬 파일은 모두 모듈이다."
      ],
      "execution_count": null,
      "outputs": [
        {
          "output_type": "execute_result",
          "data": {
            "application/vnd.google.colaboratory.intrinsic+json": {
              "type": "string"
            },
            "text/plain": [
              "'\\n# mod1.py\\ndef add(a, b):\\n    return a + b\\ndef sub(a, b): \\n    return a-b\\n'"
            ]
          },
          "metadata": {
            "tags": []
          },
          "execution_count": 34
        }
      ]
    },
    {
      "cell_type": "markdown",
      "metadata": {
        "id": "YUuZw_idHsga"
      },
      "source": [
        "**모듈 불러오기**"
      ]
    },
    {
      "cell_type": "code",
      "metadata": {
        "colab": {
          "base_uri": "https://localhost:8080/"
        },
        "id": "vzPCDzCzHuXT",
        "outputId": "ee40f971-fcba-47c9-fb70-3cd9264286ff"
      },
      "source": [
        "print(\"모듈 불러오기\")\n",
        "print(\"import 모듈명\")\n",
        "print(\">\", \"import는 이미 만들어 놓은 파이썬 모듈을 사용할 수 있게 해주는 명령어\")"
      ],
      "execution_count": null,
      "outputs": [
        {
          "output_type": "stream",
          "text": [
            "모듈 불러오기\n",
            "import 모듈명\n",
            "> import는 이미 만들어 놓은 파이썬 모듈을 사용할 수 있게 해주는 명령어\n"
          ],
          "name": "stdout"
        }
      ]
    }
  ]
}