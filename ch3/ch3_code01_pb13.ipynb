{
  "nbformat": 4,
  "nbformat_minor": 0,
  "metadata": {
    "colab": {
      "name": "ch3_code01_pb13.ipynb",
      "provenance": [],
      "collapsed_sections": []
    },
    "kernelspec": {
      "display_name": "Python 3",
      "name": "python3"
    }
  },
  "cells": [
    {
      "cell_type": "markdown",
      "metadata": {
        "id": "x3tWmM4aX4OU"
      },
      "source": [
        "### **파이썬 활용**\n",
        "\n",
        "**구글 코랩에서 코딩** \n",
        "\n",
        "- 작업 노트 코드는 구글드라이브에 저장\n",
        "-pb13"
      ]
    },
    {
      "cell_type": "markdown",
      "metadata": {
        "id": "KdIdloQlYjEs"
      },
      "source": [
        "### **ch3-code01-PB13.ipynb**"
      ]
    },
    {
      "cell_type": "markdown",
      "metadata": {
        "id": "rACXULteY5wU"
      },
      "source": [
        "### **py13(change to your id)**\n",
        "- 조건문: if - elif - else\n",
        "- 조건식\n",
        " - 비교연산자(<, >, ==, !=, >=, <=) 사용\n",
        " - 복합 조건식: or, and, not\n",
        " - 조건식: in, not in, pass\n",
        " - 단축조건식: 한 줄 코드 조건식\n",
        "- 반복문: while\n",
        " - break\n",
        " - continue\n"
      ]
    },
    {
      "cell_type": "markdown",
      "metadata": {
        "id": "Kf0nUxbQZu0E"
      },
      "source": [
        "### **코드셀 분할 단축키**\n",
        "- how to do ?\n",
        "1. 메뉴: 도구 -> 단축키\n",
        "2. 커서에서 분할 : Ctrl + Equals(Ctrl + =)"
      ]
    },
    {
      "cell_type": "markdown",
      "metadata": {
        "id": "GvYAokSPZ-AF"
      },
      "source": [
        "### **if문은 어떻게 사용?**"
      ]
    },
    {
      "cell_type": "code",
      "metadata": {
        "colab": {
          "base_uri": "https://localhost:8080/"
        },
        "id": "O_kp2ExraBwU",
        "outputId": "c9b48864-0d2a-400e-9348-2fff350cfff3"
      },
      "source": [
        "# ch3_01_if_else.py\n",
        "#\n",
        "print(\"if문은 어떻게 사용?\")\n",
        "money = True                          # bool type \n",
        "if money:\n",
        "    print(\"택시를 타고 가라\")\n",
        "else:\n",
        "    print(\"걸어 가라\")"
      ],
      "execution_count": null,
      "outputs": [
        {
          "output_type": "stream",
          "text": [
            "if문은 어떻게 사용?\n",
            "택시를 타고 가라\n"
          ],
          "name": "stdout"
        }
      ]
    },
    {
      "cell_type": "code",
      "metadata": {
        "colab": {
          "base_uri": "https://localhost:8080/"
        },
        "id": "L0YV_ur2aEIx",
        "outputId": "065f08aa-c960-401f-f716-5a80f79abc9d"
      },
      "source": [
        "money = False\n",
        "if money:\n",
        "    print(\"택시를 타고 가라\")\n",
        "else:\n",
        "    print(\"걸어 가라\")"
      ],
      "execution_count": null,
      "outputs": [
        {
          "output_type": "stream",
          "text": [
            "걸어 가라\n"
          ],
          "name": "stdout"
        }
      ]
    },
    {
      "cell_type": "code",
      "metadata": {
        "colab": {
          "base_uri": "https://localhost:8080/"
        },
        "id": "ZKnXkCpsaGYt",
        "outputId": "76e5931a-bcba-4868-dda6-f10b3eecff78"
      },
      "source": [
        "money = True\n",
        "if money:\n",
        "    print(\"택시 타세요.\")\n",
        "    print(\"집으로...\")\n",
        "else:\n",
        "    print(\"방콕!\")"
      ],
      "execution_count": null,
      "outputs": [
        {
          "output_type": "stream",
          "text": [
            "택시 타세요.\n",
            "집으로...\n"
          ],
          "name": "stdout"
        }
      ]
    },
    {
      "cell_type": "code",
      "metadata": {
        "colab": {
          "base_uri": "https://localhost:8080/"
        },
        "id": "jrLRW2t4aIwV",
        "outputId": "325a67c8-5544-4d0e-eb6a-39c4a7154e0d"
      },
      "source": [
        "money = False\n",
        "if money:\n",
        "    print(\"택시 타세요.\")\n",
        "    print(\"집으로...\")\n",
        "else:\n",
        "    print(\"방콕!\")"
      ],
      "execution_count": null,
      "outputs": [
        {
          "output_type": "stream",
          "text": [
            "방콕!\n"
          ],
          "name": "stdout"
        }
      ]
    },
    {
      "cell_type": "code",
      "metadata": {
        "colab": {
          "base_uri": "https://localhost:8080/"
        },
        "id": "E6JCI2DhaUaC",
        "outputId": "515835de-f56a-4604-b87b-ddb6d7e97596"
      },
      "source": [
        "############################\n",
        "print(\"if문의 기본 구조\")\n",
        "'''\n",
        "if 조건문:\n",
        "    수행할 문장1\n",
        "    수행할 문장2\n",
        "    ...\n",
        "else:\n",
        "    수행할 문장A\n",
        "    수행할 문장B\n",
        "    ...\n",
        "'''\n",
        "#\n",
        "\n",
        "############################\n",
        "print(\"들여 쓰기\")\n",
        "# 예-1\n",
        "money = True\n",
        "if money:\n",
        "   print(\"택시를\")\n",
        "   print(\"타고\")\n",
        "   print(\"가라\")"
      ],
      "execution_count": null,
      "outputs": [
        {
          "output_type": "stream",
          "text": [
            "if문의 기본 구조\n",
            "들여 쓰기\n",
            "택시를\n",
            "타고\n",
            "가라\n"
          ],
          "name": "stdout"
        }
      ]
    },
    {
      "cell_type": "code",
      "metadata": {
        "colab": {
          "base_uri": "https://localhost:8080/",
          "height": 130
        },
        "id": "hHeEEyugaYfg",
        "outputId": "4829da0f-638d-4df6-8364-249ee1546554"
      },
      "source": [
        "# 같은 조건일 때 들여쓰기를 두 번하면 실행이 안됩니다.\n",
        "\n",
        "# 예-2\n",
        "money = True\n",
        "if money:\n",
        "    print(\"택시를\")\n",
        "    print(\"타고\")\n",
        "        print(\"가라\")"
      ],
      "execution_count": null,
      "outputs": [
        {
          "output_type": "error",
          "ename": "IndentationError",
          "evalue": "ignored",
          "traceback": [
            "\u001b[0;36m  File \u001b[0;32m\"<ipython-input-6-846b762719c1>\"\u001b[0;36m, line \u001b[0;32m8\u001b[0m\n\u001b[0;31m    print(\"가라\")\u001b[0m\n\u001b[0m    ^\u001b[0m\n\u001b[0;31mIndentationError\u001b[0m\u001b[0;31m:\u001b[0m unexpected indent\n"
          ]
        }
      ]
    },
    {
      "cell_type": "markdown",
      "metadata": {
        "id": "PJFdoHR4afSR"
      },
      "source": [
        "### **조건식: 비교연산자**"
      ]
    },
    {
      "cell_type": "code",
      "metadata": {
        "colab": {
          "base_uri": "https://localhost:8080/"
        },
        "id": "15fe9HXzakvl",
        "outputId": "d4b7b5ab-e6fe-43a8-9758-41292ddeb6f0"
      },
      "source": [
        "###################################\n",
        "# 조건문 다음에 콜론(:)을 잊지 말자!\n",
        "###################################\n",
        "\n",
        "print(\"조건식: 비교연산자\")\n",
        "# 비교연산자(<, >, ==, !=, >=, <=)를 쓰는 방법\n",
        "x=3\n",
        "y=2\n",
        "x>y\n",
        "\n",
        "#x<y\n",
        "#x==y\n",
        "#x!=y"
      ],
      "execution_count": null,
      "outputs": [
        {
          "output_type": "stream",
          "text": [
            "조건식: 비교연산자\n"
          ],
          "name": "stdout"
        },
        {
          "output_type": "execute_result",
          "data": {
            "text/plain": [
              "True"
            ]
          },
          "metadata": {
            "tags": []
          },
          "execution_count": 7
        }
      ]
    },
    {
      "cell_type": "code",
      "metadata": {
        "colab": {
          "base_uri": "https://localhost:8080/"
        },
        "id": "qZWToOFfam6a",
        "outputId": "fad1a52a-fe21-49ee-929c-5758f985dad5"
      },
      "source": [
        "###################################\n",
        "# 조건식 만들기\n",
        "###################################\n",
        "# \"만약 3000원 이상의 돈을 가지고 있으면 택시를 타고 그렇지 않으면 걸어 가라.\"\n",
        "money = 2000\n",
        "if money >= 3000:\n",
        "    print(\"택시를 타고 가라\")\n",
        "else:\n",
        "    print(\"걸어가라\")"
      ],
      "execution_count": null,
      "outputs": [
        {
          "output_type": "stream",
          "text": [
            "걸어가라\n"
          ],
          "name": "stdout"
        }
      ]
    },
    {
      "cell_type": "code",
      "metadata": {
        "colab": {
          "base_uri": "https://localhost:8080/"
        },
        "id": "uDmVmJgnawuG",
        "outputId": "22945102-a4ca-41bf-8bd4-b6cc0d8355d6"
      },
      "source": [
        "money, money>3000"
      ],
      "execution_count": null,
      "outputs": [
        {
          "output_type": "execute_result",
          "data": {
            "text/plain": [
              "(2000, False)"
            ]
          },
          "metadata": {
            "tags": []
          },
          "execution_count": 9
        }
      ]
    },
    {
      "cell_type": "markdown",
      "metadata": {
        "id": "RAohlZjsayVF"
      },
      "source": [
        "### **복합 조건식: or, and, not**"
      ]
    },
    {
      "cell_type": "code",
      "metadata": {
        "colab": {
          "base_uri": "https://localhost:8080/"
        },
        "id": "R42K0cUla3dH",
        "outputId": "bbe89710-4008-4529-d175-a29e04764b9a"
      },
      "source": [
        "###################################\n",
        "# 복합 조건식: or, and, not\n",
        "###################################\n",
        "# 연산자\t설명\n",
        "# x or y  :\tx와 y 둘중에 하나만 참이면 참이다\n",
        "# x and y :\tx와 y 모두 참이어야 참이다\n",
        "# not x\t  : x가 거짓이면 참이다\n",
        "###################################\n",
        "# or 복합 조건식 이용\n",
        "# \"돈이 3000원 이상 있거나 카드가 있다면 택시를 타고 그렇지 않으면 걸어 가라.\"\n",
        "money = 2000\n",
        "card = True\n",
        "if money >= 3000 or card:\n",
        "    print(\"택시를 타고 가라\")\n",
        "else:\n",
        "    print(\"걸어가라\")"
      ],
      "execution_count": null,
      "outputs": [
        {
          "output_type": "stream",
          "text": [
            "택시를 타고 가라\n"
          ],
          "name": "stdout"
        }
      ]
    },
    {
      "cell_type": "markdown",
      "metadata": {
        "id": "P6tUXh2ma8Au"
      },
      "source": [
        "### **조건식**\n",
        "- in\n",
        "- not in"
      ]
    },
    {
      "cell_type": "code",
      "metadata": {
        "id": "FAkq3WaibGkD"
      },
      "source": [
        "###################################\n",
        " # 조건식: in, not in\n",
        " ###################################\n",
        " #   in\t          not in\n",
        " # x in 리스트\tx not in 리스트\n",
        " # x in 튜플\t    x not in 튜플\n",
        " # x in 문자열\tx not in 문자열\n",
        " ###################################\n",
        " "
      ],
      "execution_count": null,
      "outputs": []
    },
    {
      "cell_type": "markdown",
      "metadata": {
        "id": "mQ8HfA6obUpK"
      },
      "source": [
        "### **list**"
      ]
    },
    {
      "cell_type": "code",
      "metadata": {
        "colab": {
          "base_uri": "https://localhost:8080/"
        },
        "id": "1VJJONnzbZHy",
        "outputId": "f6b5869d-109f-4678-dae2-1f6ea499b50c"
      },
      "source": [
        "# list\n",
        "print(1 in [1, 2, 3])            # 1은 [1, 2, 3] list 안에 있습니다.  - >  True\n",
        "print(1 not in [1, 2, 3])        # 1은 [1, 2, 3] list 안에 없습니다.  - >  False"
      ],
      "execution_count": null,
      "outputs": [
        {
          "output_type": "stream",
          "text": [
            "True\n",
            "False\n"
          ],
          "name": "stdout"
        }
      ]
    },
    {
      "cell_type": "markdown",
      "metadata": {
        "id": "HJv82ulVbbP2"
      },
      "source": [
        "### **tuple**"
      ]
    },
    {
      "cell_type": "code",
      "metadata": {
        "colab": {
          "base_uri": "https://localhost:8080/"
        },
        "id": "1GfjOvLHbeAc",
        "outputId": "dc416249-8b96-4ab0-feb1-3beccc99e9d5"
      },
      "source": [
        "# tuple\n",
        "print('a' in ('a', 'b', 'c'))          # a는 ('a', 'b', 'c') tuple 안에 있습니다. \n",
        "# a in ('a', 'b', 'c')                 # NameError: name 'a' is not defined (a라는 변수는 ('a', 'b', 'c') 튜플 안에 없기 때문에 에러가 뜹니다.)"
      ],
      "execution_count": null,
      "outputs": [
        {
          "output_type": "stream",
          "text": [
            "True\n"
          ],
          "name": "stdout"
        }
      ]
    },
    {
      "cell_type": "markdown",
      "metadata": {
        "id": "VsLy-EE0biUy"
      },
      "source": [
        "### **string**"
      ]
    },
    {
      "cell_type": "code",
      "metadata": {
        "colab": {
          "base_uri": "https://localhost:8080/"
        },
        "id": "PyK52RiJblIX",
        "outputId": "a9ad87e1-88be-483d-8c41-53c267c84a39"
      },
      "source": [
        "print('j' not in 'python')             # 'j'는 'python' 문자열 안에 없습니다.   - >  True\n",
        "print('t' in 'python')                 # 't'는 'python' 문자열 안에 있습니다.   - >  True"
      ],
      "execution_count": null,
      "outputs": [
        {
          "output_type": "stream",
          "text": [
            "True\n",
            "True\n"
          ],
          "name": "stdout"
        }
      ]
    },
    {
      "cell_type": "code",
      "metadata": {
        "colab": {
          "base_uri": "https://localhost:8080/"
        },
        "id": "pEw4uWVqbCul",
        "outputId": "25fb9bee-c3ce-4063-a10e-bc8f6dbda57d"
      },
      "source": [
        "'a' in 'abcdefg'\n"
      ],
      "execution_count": null,
      "outputs": [
        {
          "output_type": "execute_result",
          "data": {
            "text/plain": [
              "True"
            ]
          },
          "metadata": {
            "tags": []
          },
          "execution_count": 12
        }
      ]
    },
    {
      "cell_type": "code",
      "metadata": {
        "colab": {
          "base_uri": "https://localhost:8080/"
        },
        "id": "aaVoWG-0btxk",
        "outputId": "ea681754-bfd3-4a27-8174-5b78b0043cd9"
      },
      "source": [
        "# in을 이용한 코드\n",
        "# \"만약 주머니에 돈이 있으면 택시를 타고, 없으면 걸어 가라.\"\n",
        "pocket = ['paper', 'cellphone', 'money']\n",
        "if 'money' in pocket:\n",
        "    print(\"택시를 타고 가라\")\n",
        "else:\n",
        "    print(\"걸어가라\")"
      ],
      "execution_count": null,
      "outputs": [
        {
          "output_type": "stream",
          "text": [
            "택시를 타고 가라\n"
          ],
          "name": "stdout"
        }
      ]
    },
    {
      "cell_type": "code",
      "metadata": {
        "id": "dKaeQhoubx5a"
      },
      "source": [
        "###################################\n",
        "# 조건식: pass\n",
        "###################################\n",
        "pocket = ['paper', 'cellphone', 'money']\n",
        "if 'money' in pocket:\n",
        "    # print(\"택시를 타고 가라\")\n",
        "    pass\n",
        "else:\n",
        "    print(\"걸어가라\")"
      ],
      "execution_count": null,
      "outputs": []
    },
    {
      "cell_type": "markdown",
      "metadata": {
        "id": "ugBhqawGby1K"
      },
      "source": [
        "### **다중 조건식: elif**\n",
        "다양한 조건을 판단단"
      ]
    },
    {
      "cell_type": "code",
      "metadata": {
        "colab": {
          "base_uri": "https://localhost:8080/"
        },
        "id": "XeRx2xmub8dW",
        "outputId": "69d9f465-6a90-41af-d7f8-a0533ce81a67"
      },
      "source": [
        "# 다중 조건식: elif\n",
        "# 다양한 조건을 판단\n",
        "###################################\n",
        "# \"주머니에 돈이 있으면 택시를 타고, \n",
        "# 주머니에 돈은 없지만 카드가 있으면 택시를 타고, \n",
        "# 돈도 없고 카드도 없으면 걸어 가라.\"\n",
        "#\n",
        "pocket = ['paper', 'handphone']\n",
        "card = True\n",
        "if 'money' in pocket:\n",
        "    print(\"택시를 타고가라\")\n",
        "else:\n",
        "    if card:\n",
        "        print(\"택시를 타고가라\")\n",
        "    else:\n",
        "        print(\"걸어가라\")"
      ],
      "execution_count": null,
      "outputs": [
        {
          "output_type": "stream",
          "text": [
            "택시를 타고가라\n"
          ],
          "name": "stdout"
        }
      ]
    },
    {
      "cell_type": "code",
      "metadata": {
        "colab": {
          "base_uri": "https://localhost:8080/"
        },
        "id": "8nFBOK2bb9ea",
        "outputId": "c169f05a-335c-409a-ae51-32bb27da0352"
      },
      "source": [
        "# elif 이용한 코드\n",
        "pocket = ['paper', 'handphone']\n",
        "card = False\n",
        "if 'money' in pocket:\n",
        "    print(\"택시를 타고가라\")\n",
        "elif card:\n",
        "    print(\"택시를 타고가라\")\n",
        "else:\n",
        "    print(\"걸어가라\")"
      ],
      "execution_count": null,
      "outputs": [
        {
          "output_type": "stream",
          "text": [
            "걸어가라\n"
          ],
          "name": "stdout"
        }
      ]
    },
    {
      "cell_type": "markdown",
      "metadata": {
        "id": "yFJMmrR8cAMH"
      },
      "source": [
        "### **단축 코드 만들기**\n",
        "- if문을 한 줄로 작성하기"
      ]
    },
    {
      "cell_type": "code",
      "metadata": {
        "id": "Lw0gkzkBcEYG"
      },
      "source": [
        "###################################\n",
        "# if문을 한 줄로 작성하기\n",
        "###################################\n",
        "pocket = ['paper', 'cellphone', 'money']\n",
        "if 'money' in pocket:\n",
        "    pass\n",
        "else:\n",
        "    print(\"카드를 사용해라.\")"
      ],
      "execution_count": null,
      "outputs": []
    },
    {
      "cell_type": "code",
      "metadata": {
        "id": "uXLeaaa-cItE"
      },
      "source": [
        "# 최소줄 코드\n",
        "if 'money' in pocket: pass\n",
        "else: print(\"카드를 사용해라.\")"
      ],
      "execution_count": null,
      "outputs": []
    },
    {
      "cell_type": "markdown",
      "metadata": {
        "id": "5b2_yXmhcMFA"
      },
      "source": [
        "### **조건부 표현식 (conditional expression)**"
      ]
    },
    {
      "cell_type": "markdown",
      "metadata": {
        "id": "EF867gTOcRk7"
      },
      "source": [
        "조건문이 참인 경우 if 조건문 else 조건문이 거짓인 경우"
      ]
    },
    {
      "cell_type": "code",
      "metadata": {
        "colab": {
          "base_uri": "https://localhost:8080/"
        },
        "id": "RWcN5ZQIcUYT",
        "outputId": "7ab9af8e-f710-47b0-f304-ef670aa04736"
      },
      "source": [
        "score=80\n",
        "if score >= 60:\n",
        "    message = \"success\"\n",
        "else:\n",
        "    message = \"failure\"\n",
        "\n",
        "print(message)"
      ],
      "execution_count": null,
      "outputs": [
        {
          "output_type": "stream",
          "text": [
            "success\n"
          ],
          "name": "stdout"
        }
      ]
    },
    {
      "cell_type": "code",
      "metadata": {
        "colab": {
          "base_uri": "https://localhost:8080/"
        },
        "id": "1zqrX0oAcW0H",
        "outputId": "3ed8c649-944e-4abe-cbaf-d2a578a753ce"
      },
      "source": [
        "score = 50\n",
        "message = \"success\" if score >= 60 else \"failure\"\n",
        "print(message)"
      ],
      "execution_count": null,
      "outputs": [
        {
          "output_type": "stream",
          "text": [
            "failure\n"
          ],
          "name": "stdout"
        }
      ]
    },
    {
      "cell_type": "markdown",
      "metadata": {
        "id": "sRDM6Gtjcb9v"
      },
      "source": [
        "### **반복문**\n",
        "- while\n",
        "- for"
      ]
    },
    {
      "cell_type": "code",
      "metadata": {
        "colab": {
          "base_uri": "https://localhost:8080/"
        },
        "id": "aWQg_za5cfJ_",
        "outputId": "25cabf90-1166-4902-894d-92a51135c60d"
      },
      "source": [
        "# ch3_02_whie.py\n",
        "#\n",
        "print(\"while 문은 어떻게 사용?\")\n",
        "# 반복해서 문장을 수행해야 할 경우 while문을 사용한다. \n",
        "# 그래서 while문을 반복문이라고도 부른다.\n",
        "\n",
        "############################\n",
        "print(\"while문의 기본 구조\")\n",
        "'''\n",
        "while <조건문>:\n",
        "    <수행할 문장1>\n",
        "    <수행할 문장2>\n",
        "    <수행할 문장3>\n",
        "    ...\n",
        "'''\n",
        "\n",
        "# \"열 번 찍어 안 넘어가는 나무 없다\"는 속담을 파이썬 프로그램으로 반복 실행\n",
        "treeHit = 0\n",
        "while treeHit < 10:\n",
        "    treeHit = treeHit +1\n",
        "    print(\"나무를 %d번 찍었습니다.\" % treeHit)\n",
        "    if treeHit == 10:\n",
        "        print(\"나무 넘어갑니다.\")"
      ],
      "execution_count": null,
      "outputs": [
        {
          "output_type": "stream",
          "text": [
            "while 문은 어떻게 사용?\n",
            "while문의 기본 구조\n",
            "나무를 1번 찍었습니다.\n",
            "나무를 2번 찍었습니다.\n",
            "나무를 3번 찍었습니다.\n",
            "나무를 4번 찍었습니다.\n",
            "나무를 5번 찍었습니다.\n",
            "나무를 6번 찍었습니다.\n",
            "나무를 7번 찍었습니다.\n",
            "나무를 8번 찍었습니다.\n",
            "나무를 9번 찍었습니다.\n",
            "나무를 10번 찍었습니다.\n",
            "나무 넘어갑니다.\n"
          ],
          "name": "stdout"
        }
      ]
    },
    {
      "cell_type": "code",
      "metadata": {
        "colab": {
          "base_uri": "https://localhost:8080/"
        },
        "id": "UOIyninwc7N8",
        "outputId": "4b36eca0-e28f-4e40-8246-ac51306b347c"
      },
      "source": [
        "#\n",
        "############################\n",
        "print(\"while문 만들기\")\n",
        "#\n",
        "prompt = \"\"\"\n",
        "1. Add\n",
        "2. Del\n",
        "3. List\n",
        "4. Quit\n",
        "Enter number: \"\"\"\n",
        "\n",
        "print(prompt)\n",
        "\n",
        "number = 0\n",
        "while number != 4:\n",
        "    print(prompt)\n",
        "    number = int(input())"
      ],
      "execution_count": null,
      "outputs": [
        {
          "output_type": "stream",
          "text": [
            "while문 만들기\n",
            "\n",
            "1. Add\n",
            "2. Del\n",
            "3. List\n",
            "4. Quit\n",
            "Enter number: \n",
            "\n",
            "1. Add\n",
            "2. Del\n",
            "3. List\n",
            "4. Quit\n",
            "Enter number: \n",
            "3\n",
            "\n",
            "1. Add\n",
            "2. Del\n",
            "3. List\n",
            "4. Quit\n",
            "Enter number: \n",
            "4\n"
          ],
          "name": "stdout"
        }
      ]
    },
    {
      "cell_type": "code",
      "metadata": {
        "colab": {
          "base_uri": "https://localhost:8080/"
        },
        "id": "Q60SeOiBdLK1",
        "outputId": "63462851-327d-427e-a718-173b8d3eaab4"
      },
      "source": [
        "#\n",
        "###################################\n",
        "print(\"while문 강제로 빠져나가기\")\n",
        "###################################\n",
        "# 커피 자판기 작동\n",
        "# 자판기가 제대로 작동하려면 커피가 얼마나 남았는지 항상 검사해야 한다. \n",
        "# 만약 커피가 떨어졌다면 판매를 중단하고 \"판매 중지\" 문구를 사용자에게 보여준다.\n",
        "#\n",
        "coffee = 10\n",
        "money = 300\n",
        "while money:\n",
        "    print(\"돈을 받았으니 커피를 줍니다.\")\n",
        "    coffee = coffee -1\n",
        "    print(\"남은 커피의 양은 %d개입니다.\" % coffee)\n",
        "    if coffee == 0:\n",
        "        print(\"커피가 다 떨어졌습니다. 판매를 중지합니다.\")\n",
        "        break"
      ],
      "execution_count": null,
      "outputs": [
        {
          "output_type": "stream",
          "text": [
            "while문 강제로 빠져나가기\n",
            "돈을 받았으니 커피를 줍니다.\n",
            "남은 커피의 양은 9개입니다.\n",
            "돈을 받았으니 커피를 줍니다.\n",
            "남은 커피의 양은 8개입니다.\n",
            "돈을 받았으니 커피를 줍니다.\n",
            "남은 커피의 양은 7개입니다.\n",
            "돈을 받았으니 커피를 줍니다.\n",
            "남은 커피의 양은 6개입니다.\n",
            "돈을 받았으니 커피를 줍니다.\n",
            "남은 커피의 양은 5개입니다.\n",
            "돈을 받았으니 커피를 줍니다.\n",
            "남은 커피의 양은 4개입니다.\n",
            "돈을 받았으니 커피를 줍니다.\n",
            "남은 커피의 양은 3개입니다.\n",
            "돈을 받았으니 커피를 줍니다.\n",
            "남은 커피의 양은 2개입니다.\n",
            "돈을 받았으니 커피를 줍니다.\n",
            "남은 커피의 양은 1개입니다.\n",
            "돈을 받았으니 커피를 줍니다.\n",
            "남은 커피의 양은 0개입니다.\n",
            "커피가 다 떨어졌습니다. 판매를 중지합니다.\n"
          ],
          "name": "stdout"
        }
      ]
    },
    {
      "cell_type": "code",
      "metadata": {
        "id": "HplYno6ndX43"
      },
      "source": [
        "###################################\n",
        "# coffee.py\n",
        "###################################\n",
        "\"\"\"\n",
        "coffee = 10\n",
        "while True:\n",
        "    money = int(input(\"돈을 넣어 주세요: \"))\n",
        "    if money == 300:\n",
        "        print(\"커피를 줍니다.\")\n",
        "        coffee = coffee -1\n",
        "    elif money > 300:\n",
        "        print(\"거스름돈 %d를 주고 커피를 줍니다.\" % (money -300))\n",
        "        coffee = coffee -1\n",
        "    else:\n",
        "        print(\"돈을 다시 돌려주고 커피를 주지 않습니다.\")\n",
        "        print(\"남은 커피의 양은 %d개 입니다.\" % coffee)\n",
        "    if coffee == 0:\n",
        "        print(\"커피가 다 떨어졌습니다. 판매를 중지 합니다.\")\n",
        "        break\n",
        "\"\"\""
      ],
      "execution_count": null,
      "outputs": []
    },
    {
      "cell_type": "markdown",
      "metadata": {
        "id": "YbmBJUcNdgyH"
      },
      "source": [
        "### **continue 이용**\n"
      ]
    },
    {
      "cell_type": "code",
      "metadata": {
        "colab": {
          "base_uri": "https://localhost:8080/"
        },
        "id": "ygkBFc8Rf5M5",
        "outputId": "dbd5a9e8-164b-4379-968e-a4fddf3106ea"
      },
      "source": [
        "#\n",
        "###################################\n",
        "print(\"while문의 맨 처음으로 돌아가기: continue\")\n",
        "###################################\n",
        "# while문을 빠져나가지 않고 while문의 맨 처음(조건문)으로 \n",
        "# 다시 돌아가게 만들고 싶은 경우가 생기게 된다. \n",
        "# 이때 사용하는 것이 바로 continue문이다.\n",
        "#\n",
        "# 1부터 10까지의 숫자 중에서 홀수만 출력하는 것을 while문을 사용해서 작성\n",
        "#\n",
        "a = 0\n",
        "while a < 10:\n",
        "    a = a + 1\n",
        "    if a % 2 == 0: continue\n",
        "    print(a)"
      ],
      "execution_count": null,
      "outputs": [
        {
          "output_type": "stream",
          "text": [
            "while문의 맨 처음으로 돌아가기: continue\n",
            "1\n",
            "3\n",
            "5\n",
            "7\n",
            "9\n"
          ],
          "name": "stdout"
        }
      ]
    },
    {
      "cell_type": "markdown",
      "metadata": {
        "id": "sLtbTQiIgQcm"
      },
      "source": [
        "### **무한루프 코드의 예(^C로 중지!!!)**"
      ]
    }
  ]
}