{
  "nbformat": 4,
  "nbformat_minor": 0,
  "metadata": {
    "colab": {
      "name": "ch3_exercises_PB10",
      "provenance": [],
      "collapsed_sections": [],
      "toc_visible": true
    },
    "kernelspec": {
      "name": "python3",
      "display_name": "Python 3"
    },
    "language_info": {
      "name": "python"
    }
  },
  "cells": [
    {
      "cell_type": "markdown",
      "metadata": {
        "id": "FJ_Yn8kOnC3i"
      },
      "source": [
        "# **Q1.** \n",
        "> 다음 코드의 결괏값은 무엇일까?\n",
        "\n",
        "\n"
      ]
    },
    {
      "cell_type": "code",
      "metadata": {
        "colab": {
          "base_uri": "https://localhost:8080/"
        },
        "id": "VLUj-PkPn2Ys",
        "outputId": "058143d5-e50a-4157-d032-850ec7a801c7"
      },
      "source": [
        "# [Q1] Code  \n",
        "a = \"Life is too short, you need python\"\n",
        "if \"wife\" in a: print(\"wife\") # 첫 번째 조건: \"wife\"라는 단어는 a 문자열에 없으므로 거짓이다.\n",
        "elif \"python\" in a and \"you\" not in a: print(\"python\") # 두 번째 조건: \"python\"이라는 단어는 a 문자열에 있지만 \"you\" 역시 a 문자열에 있으므로 거짓이다.\n",
        "elif \"shirt\" not in a: print(\"shirt\")  # 세 번째 조건: \"shirt\"라는 단어가 a 문자열에 없으므로 참이다.\n",
        "elif \"need\" in a: print(\"need\") # 네 번째 조건: \"need\"라는 단어가 a 문자열에 있으므로 참이다.\n",
        "else: print(\"none\")"
      ],
      "execution_count": 14,
      "outputs": [
        {
          "output_type": "stream",
          "text": [
            "shirt\n"
          ],
          "name": "stdout"
        }
      ]
    },
    {
      "cell_type": "markdown",
      "metadata": {
        "id": "ZTBxk98rpQ1w"
      },
      "source": [
        "# **Q2.**\n",
        "\n",
        "> while문을 사용해 1부터 1000까지의 자연수 중 3의 배수의 합을 구해 보자.\n",
        "\n",
        "\n",
        "\n",
        "\n"
      ]
    },
    {
      "cell_type": "code",
      "metadata": {
        "colab": {
          "base_uri": "https://localhost:8080/"
        },
        "id": "bFzTOjp4peLJ",
        "outputId": "46790f96-baf0-4f59-ec70-e6aee0ba1165"
      },
      "source": [
        "# [Q2] Coderesult = 0\n",
        "\n",
        "i = 1\n",
        "result = 0\n",
        "while i < 1001:\n",
        "    if i % 3 == 0: # 3으로 나누어 떨어지는 수는 3의 배수\n",
        "        result = result + i\n",
        "    i = i + 1\n",
        "\n",
        "print(result)"
      ],
      "execution_count": 13,
      "outputs": [
        {
          "output_type": "stream",
          "text": [
            "166833\n"
          ],
          "name": "stdout"
        }
      ]
    },
    {
      "cell_type": "markdown",
      "metadata": {
        "id": "WUfV_RTmp0V6"
      },
      "source": [
        "# **Q3.**\n",
        "\n",
        "\n",
        "> while문을 사용하여 다음과 같이 별(*)을 표시하는 프로그램을 작성해 보자.\n"
      ]
    },
    {
      "cell_type": "code",
      "metadata": {
        "colab": {
          "base_uri": "https://localhost:8080/"
        },
        "id": "giw1lQOpp-g-",
        "outputId": "8a68b9c5-74ac-48c2-f4c6-e42284166e7e"
      },
      "source": [
        "# [Q3] Code\n",
        "\n",
        "i = 0\n",
        "while True:\n",
        "    i = i + 1 # while문 수행 시 1씩 증가\n",
        "    if i > 5: break  # i 값이 5보다 크면 while문을 벗어난다.\n",
        "    print(\"*\" * i) # i 값 개수만큼 *를 출력한다."
      ],
      "execution_count": 12,
      "outputs": [
        {
          "output_type": "stream",
          "text": [
            "*\n",
            "**\n",
            "***\n",
            "****\n",
            "*****\n"
          ],
          "name": "stdout"
        }
      ]
    },
    {
      "cell_type": "markdown",
      "metadata": {
        "id": "_lKzQwdXqECx"
      },
      "source": [
        "# **Q4.**\n",
        "> for문을 사용해 1부터 100까지의 숫자를 출력해 보자.\n",
        "- 단순 for문 사용\n",
        "- 리스트 내포 사용\n",
        "\n"
      ]
    },
    {
      "cell_type": "code",
      "metadata": {
        "colab": {
          "base_uri": "https://localhost:8080/"
        },
        "id": "aminLEKaqDOJ",
        "outputId": "11d2fdd4-816d-4ae9-b57b-2f6bc932412d"
      },
      "source": [
        "# [Q4] Code\n",
        "\n",
        "for i in range(1,101):\n",
        "    print(i)"
      ],
      "execution_count": 11,
      "outputs": [
        {
          "output_type": "stream",
          "text": [
            "1\n",
            "2\n",
            "3\n",
            "4\n",
            "5\n",
            "6\n",
            "7\n",
            "8\n",
            "9\n",
            "10\n",
            "11\n",
            "12\n",
            "13\n",
            "14\n",
            "15\n",
            "16\n",
            "17\n",
            "18\n",
            "19\n",
            "20\n",
            "21\n",
            "22\n",
            "23\n",
            "24\n",
            "25\n",
            "26\n",
            "27\n",
            "28\n",
            "29\n",
            "30\n",
            "31\n",
            "32\n",
            "33\n",
            "34\n",
            "35\n",
            "36\n",
            "37\n",
            "38\n",
            "39\n",
            "40\n",
            "41\n",
            "42\n",
            "43\n",
            "44\n",
            "45\n",
            "46\n",
            "47\n",
            "48\n",
            "49\n",
            "50\n",
            "51\n",
            "52\n",
            "53\n",
            "54\n",
            "55\n",
            "56\n",
            "57\n",
            "58\n",
            "59\n",
            "60\n",
            "61\n",
            "62\n",
            "63\n",
            "64\n",
            "65\n",
            "66\n",
            "67\n",
            "68\n",
            "69\n",
            "70\n",
            "71\n",
            "72\n",
            "73\n",
            "74\n",
            "75\n",
            "76\n",
            "77\n",
            "78\n",
            "79\n",
            "80\n",
            "81\n",
            "82\n",
            "83\n",
            "84\n",
            "85\n",
            "86\n",
            "87\n",
            "88\n",
            "89\n",
            "90\n",
            "91\n",
            "92\n",
            "93\n",
            "94\n",
            "95\n",
            "96\n",
            "97\n",
            "98\n",
            "99\n",
            "100\n"
          ],
          "name": "stdout"
        }
      ]
    },
    {
      "cell_type": "markdown",
      "metadata": {
        "id": "bwcuSodnqVCI"
      },
      "source": [
        "# **Q5.**\n",
        "\n",
        "> A 학급에 총 10명의 학생이 있다. 이 학생들의 중간고사 점수는 다음과 같다.\n",
        "\n",
        "- [70, 60, 55, 75, 95, 90, 80, 80, 85, 100]\n",
        "- for문을 사용하여 A 학급의 평균 점수를 구해 보자.\n"
      ]
    },
    {
      "cell_type": "code",
      "metadata": {
        "colab": {
          "base_uri": "https://localhost:8080/"
        },
        "id": "dUKUgOUNq8b8",
        "outputId": "3753058f-f2e2-4cec-c165-dc0369e350dc"
      },
      "source": [
        "# [Q5] Code\n",
        "\n",
        "A = [70, 60, 55, 75, 95, 90, 80, 80, 85, 100]\n",
        "total = 0\n",
        "\n",
        "for score in A: \n",
        "    total += score # A학급의 점수를 모두 더한다.\n",
        "\n",
        "average = total / len(A) # 평균을 구하기 위해 총 점수를 총 학생수로 나눈다.\n",
        "print(average)"
      ],
      "execution_count": 15,
      "outputs": [
        {
          "output_type": "stream",
          "text": [
            "79.0\n"
          ],
          "name": "stdout"
        }
      ]
    },
    {
      "cell_type": "markdown",
      "metadata": {
        "id": "k6DZoDBHqZox"
      },
      "source": [
        "# **Q6.**\n",
        "\n",
        "\n",
        "\n",
        "> 리스트 중에서 홀수에만 2를 곱하여 저장하는 다음 코드가 있다.\n",
        "\n",
        "\n",
        "- 위 코드를 리스트 내포(list comprehension)를 사용하여 표현해 보자."
      ]
    },
    {
      "cell_type": "code",
      "metadata": {
        "colab": {
          "base_uri": "https://localhost:8080/"
        },
        "id": "Bw-FTfSMsHlE",
        "outputId": "da1abe89-6e53-42b0-dd8a-9ab8799d1fa2"
      },
      "source": [
        "# [Q6] Code\n",
        "\n",
        "numbers = [1, 2, 3, 4, 5, 6, 7, 8, 9]\n",
        "result = [n*2 for n in numbers if n%2==1]\n",
        "print(result)"
      ],
      "execution_count": 16,
      "outputs": [
        {
          "output_type": "stream",
          "text": [
            "[2, 6, 10, 14, 18]\n"
          ],
          "name": "stdout"
        }
      ]
    },
    {
      "cell_type": "markdown",
      "metadata": {
        "id": "wbgWIXI6qdeO"
      },
      "source": [
        "# **Q7.**\n",
        "\n",
        "> **[Challenge] 응용 코드 : 평균 성적을 구하시오.**  \n",
        "\n",
        "- 평균 성적을 세가지 이상의 방법으로 구하시오."
      ]
    },
    {
      "cell_type": "code",
      "metadata": {
        "colab": {
          "base_uri": "https://localhost:8080/"
        },
        "id": "5gsKxWyAsoRb",
        "outputId": "32a426ff-8e10-4368-a037-0017b1ff0b5b"
      },
      "source": [
        "# [Q7] Code-1\n",
        "\n",
        "subjects = ['파이썬', '영어', '수학', '물리']\n",
        "scores = [91, 67, 88, 75]\n",
        "\n",
        "total = 0\n",
        "for i in range(len(scores)):\n",
        "    total = total + scores[i]\n",
        "\n",
        "for index in range(len(subjects)):\n",
        "    print(subjects[index], scores[index])\n",
        "\n",
        "print(\"평균점수 = {0}\".format(total/len(subjects)))"
      ],
      "execution_count": 18,
      "outputs": [
        {
          "output_type": "stream",
          "text": [
            "파이썬 91\n",
            "영어 67\n",
            "수학 88\n",
            "물리 75\n",
            "평균점수 = 80.25\n"
          ],
          "name": "stdout"
        }
      ]
    },
    {
      "cell_type": "code",
      "metadata": {
        "colab": {
          "base_uri": "https://localhost:8080/"
        },
        "id": "53IHkzthtDhU",
        "outputId": "78da42a4-e2df-4a76-f4a7-b25d373e77a4"
      },
      "source": [
        "# [Q7] Code-2\n",
        "\n",
        "subjects = ['파이썬', '영어', '수학', '물리']\n",
        "scores = [91, 67, 88, 75]\n",
        "\n",
        "total = 0\n",
        "for position, subject in enumerate(subjects):\n",
        "    score = scores[position]\n",
        "    print(subject, score)\n",
        "\n",
        "for index, value in enumerate(scores):\n",
        "    total += value\n",
        "result = total/(index + 1)\n",
        "print(\"평균점수 = {0}\".format(result))"
      ],
      "execution_count": 19,
      "outputs": [
        {
          "output_type": "stream",
          "text": [
            "파이썬 91\n",
            "영어 67\n",
            "수학 88\n",
            "물리 75\n",
            "평균점수 = 80.25\n"
          ],
          "name": "stdout"
        }
      ]
    },
    {
      "cell_type": "code",
      "metadata": {
        "colab": {
          "base_uri": "https://localhost:8080/"
        },
        "id": "xLRrYYQ6tGK0",
        "outputId": "96e43bba-0b70-4a11-9962-971b75d54738"
      },
      "source": [
        "# [Q7] Code-3\n",
        "\n",
        "subjects = ['파이썬', '영어', '수학', '물리']\n",
        "scores = [91, 67, 88, 75]\n",
        "\n",
        "average = 0\n",
        "total = 0\n",
        "for subject, score in zip(subjects, scores):\n",
        "    total += score\n",
        "    print(subject, score)\n",
        "\n",
        "print(\"평균 점수 = {0}\".format(total/len(subjects)))"
      ],
      "execution_count": 20,
      "outputs": [
        {
          "output_type": "stream",
          "text": [
            "파이썬 91\n",
            "영어 67\n",
            "수학 88\n",
            "물리 75\n",
            "평균 점수 = 80.25\n"
          ],
          "name": "stdout"
        }
      ]
    },
    {
      "cell_type": "markdown",
      "metadata": {
        "id": "Rj_reew8tfHA"
      },
      "source": [
        " **코딩 연습 결과를 github에 올리기**\n",
        "> 완성된 ipython 노트북 파일을 각자의 github에 올리시오.\n",
        "\n",
        "\n",
        "\n",
        "\n",
        "- github 계정 만들기 (계정이 없는 학생)\n",
        "     1. github에 sign up (Google gmail 계정을 이용해서 만드시오.)\n",
        "- github에 노트 올리기\n",
        "     1. github에 각자의 id로 repo를 만드시오. (한번 만들면 계속 재사용)\n",
        "     2. github repo의 ch3 폴더에 연습문제 풀이 결과 노트를 올리시오.\n",
        "          - 제출노트: ch3-exercises-id.ipynb\n"
      ]
    }
  ]
}