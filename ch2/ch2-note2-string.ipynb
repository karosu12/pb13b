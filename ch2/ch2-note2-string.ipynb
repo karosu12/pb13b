{
 "metadata": {
  "language_info": {
   "codemirror_mode": {
    "name": "ipython",
    "version": 3
   },
   "file_extension": ".py",
   "mimetype": "text/x-python",
   "name": "python",
   "nbconvert_exporter": "python",
   "pygments_lexer": "ipython3",
   "version": "3.8.5-final"
  },
  "orig_nbformat": 2,
  "kernelspec": {
   "name": "python3",
   "display_name": "Python 3.8.5 64-bit ('karos': virtualenv)",
   "metadata": {
    "interpreter": {
     "hash": "a02abb3e9075615a13c53d090a0a3c8ee7919d09ae62e4538ee0a0bfed106b7a"
    }
   }
  }
 },
 "nbformat": 4,
 "nbformat_minor": 2,
 "cells": [
  {
   "source": [
    "### 문자열"
   ],
   "cell_type": "markdown",
   "metadata": {}
  },
  {
   "cell_type": "code",
   "execution_count": 1,
   "metadata": {},
   "outputs": [
    {
     "output_type": "stream",
     "name": "stdout",
     "text": [
      "Python's favorite food is perl\nPython's favorite food is perl\n\"Python is very easy.\" he says.\n"
     ]
    }
   ],
   "source": [
    "food = \"Python's favorite food is perl\"\n",
    "print(food)\n",
    "\n",
    "food = \"Python's favorite food is perl\"  # Error\n",
    "print(food)\n",
    "say = '\"Python is very easy.\" he says.'\n",
    "print(say)"
   ]
  },
  {
   "source": [
    "### 문자열: \\ 이용"
   ],
   "cell_type": "markdown",
   "metadata": {}
  },
  {
   "cell_type": "code",
   "execution_count": 3,
   "metadata": {},
   "outputs": [
    {
     "output_type": "stream",
     "name": "stdout",
     "text": [
      "Python's favorite food is perl\n\"Python is very easy.\" he says.\n"
     ]
    }
   ],
   "source": [
    "food = 'Python\\'s favorite food is perl'\n",
    "print(food)\n",
    "say = \"\\\"Python is very easy.\\\" he says.\"\n",
    "print(say)"
   ]
  },
  {
   "source": [
    "### 문자열: 이스케이프 코드 이용"
   ],
   "cell_type": "markdown",
   "metadata": {}
  },
  {
   "cell_type": "code",
   "execution_count": 4,
   "metadata": {},
   "outputs": [
    {
     "output_type": "stream",
     "name": "stdout",
     "text": [
      "Life is too short\nYou need python\n"
     ]
    }
   ],
   "source": [
    "multiline = \"Life is too short\\nYou need python\"\n",
    "multiline\n",
    "print(multiline)"
   ]
  },
  {
   "source": [
    "### 여러줄 문자열 처리"
   ],
   "cell_type": "markdown",
   "metadata": {}
  },
  {
   "cell_type": "code",
   "execution_count": 8,
   "metadata": {},
   "outputs": [
    {
     "output_type": "stream",
     "name": "stdout",
     "text": [
      "\nLife is too short\nYou need python\n\n"
     ]
    }
   ],
   "source": [
    "multiline = '''\n",
    "... Life is too short\n",
    "... You need python\n",
    "... '''\n",
    "multiline\n",
    "print(multiline)\n"
   ]
  },
  {
   "source": [
    "### 문자열 연산: 더하기"
   ],
   "cell_type": "markdown",
   "metadata": {}
  },
  {
   "cell_type": "code",
   "execution_count": 9,
   "metadata": {},
   "outputs": [
    {
     "output_type": "execute_result",
     "data": {
      "text/plain": [
       "'HCit is best!'"
      ]
     },
     "metadata": {},
     "execution_count": 9
    }
   ],
   "source": [
    "s1 = \"HCit\"\n",
    "s2 = ' is best!'\n",
    "s1+s2"
   ]
  },
  {
   "source": [
    "### 문자열 연산: 곱하기"
   ],
   "cell_type": "markdown",
   "metadata": {}
  },
  {
   "cell_type": "code",
   "execution_count": 10,
   "metadata": {},
   "outputs": [
    {
     "output_type": "execute_result",
     "data": {
      "text/plain": [
       "'pythonpythonpythonpythonpython'"
      ]
     },
     "metadata": {},
     "execution_count": 10
    }
   ],
   "source": [
    "a = \"python\"\n",
    "a * 5"
   ]
  },
  {
   "source": [
    "### multistring.py"
   ],
   "cell_type": "markdown",
   "metadata": {}
  },
  {
   "cell_type": "code",
   "execution_count": 11,
   "metadata": {},
   "outputs": [
    {
     "output_type": "stream",
     "name": "stdout",
     "text": [
      "==================================================\nI am now coding Python!\n==================================================\n"
     ]
    }
   ],
   "source": [
    "print(\"=\" * 50)\n",
    "print(\"I am now coding Python!\")\n",
    "print(\"=\" * 50)\n",
    "#####################################"
   ]
  },
  {
   "source": [
    "### 문자열 연산: 길이 구하기 - len()"
   ],
   "cell_type": "markdown",
   "metadata": {}
  },
  {
   "cell_type": "code",
   "execution_count": 12,
   "metadata": {},
   "outputs": [
    {
     "output_type": "execute_result",
     "data": {
      "text/plain": [
       "17"
      ]
     },
     "metadata": {},
     "execution_count": 12
    }
   ],
   "source": [
    "a = \"Life is too short\"\n",
    "len(a)"
   ]
  },
  {
   "source": [
    "### 문자열: 인덱싱이란?"
   ],
   "cell_type": "markdown",
   "metadata": {}
  },
  {
   "source": [
    "a = \"Life is too short, You need Python\"\n",
    "a[3]\n",
    "print(a[3])\n",
    "a[0]\n",
    "print(a[0])\n",
    "a[15]\n",
    "print(a[15])"
   ],
   "cell_type": "code",
   "metadata": {},
   "execution_count": 17,
   "outputs": [
    {
     "output_type": "stream",
     "name": "stdout",
     "text": [
      "e\nL\nr\n"
     ]
    }
   ]
  },
  {
   "source": [
    "### 문자열: 인덱싱 활용"
   ],
   "cell_type": "markdown",
   "metadata": {}
  },
  {
   "cell_type": "code",
   "execution_count": 18,
   "metadata": {},
   "outputs": [
    {
     "output_type": "stream",
     "name": "stdout",
     "text": [
      "L\ns\nn\no\ni\n \n"
     ]
    }
   ],
   "source": [
    "a = \"Life is too short, You need Python\"\n",
    "a[0]\n",
    "print(a[0])\n",
    "a[12]\n",
    "print(a[12])\n",
    "a[-1]\n",
    "print(a[-1])\n",
    "a[-2]\n",
    "print(a[-2])\n",
    "a[-5]\n",
    "print(a[5])\n",
    "a[-12]\n",
    "print(a[-12])"
   ]
  },
  {
   "source": [
    "### 문자열: 슬라이싱이란?"
   ],
   "cell_type": "markdown",
   "metadata": {}
  },
  {
   "cell_type": "code",
   "execution_count": 20,
   "metadata": {},
   "outputs": [
    {
     "output_type": "stream",
     "name": "stdout",
     "text": [
      "Life\nLife\nLife \nis\nshort\nLife\nYou need Python\nLife is too short\nYou need\n"
     ]
    }
   ],
   "source": [
    "a = \"Life is too short, You need Python\"\n",
    "# Life 를 뽑아낼려면 어떻게?\n",
    "b = a[0] + a[1] + a[2] + a[3]  # 문자열 뎌하기 연산\n",
    "print(b)\n",
    "# slicing (슬라이싱)\n",
    "a[0:4]  # 0 <= index < 4\n",
    "print(a[0:4])\n",
    "a[0:5]\n",
    "print(a[0:5])\n",
    "a[5:7]\n",
    "print(a[5:7])\n",
    "a[12:17]\n",
    "print(a[12:17])\n",
    "# : 의 사용\n",
    "a[:4]\n",
    "print(a[:4])\n",
    "a[19:]\n",
    "print(a[19:])\n",
    "a[:17]\n",
    "print(a[:17])\n",
    "\n",
    "# a[19:-7] ?\n",
    "a[19:-7]\n",
    "print(a[19:-7])"
   ]
  },
  {
   "source": [
    "### 문자열: 슬라이싱 응용"
   ],
   "cell_type": "markdown",
   "metadata": {}
  },
  {
   "cell_type": "code",
   "execution_count": 26,
   "metadata": {},
   "outputs": [
    {
     "output_type": "stream",
     "name": "stdout",
     "text": [
      "20190909Sunny\n20190909\nSunny\n20190917Rainy\n2019\n0917\nRainy\n2019 0917 Rainy\nPithon\ni\n"
     ]
    },
    {
     "output_type": "error",
     "ename": "TypeError",
     "evalue": "'str' object does not support item assignment",
     "traceback": [
      "\u001b[1;31m---------------------------------------------------------------------------\u001b[0m",
      "\u001b[1;31mTypeError\u001b[0m                                 Traceback (most recent call last)",
      "\u001b[1;32m<ipython-input-26-b0d9a0abef4e>\u001b[0m in \u001b[0;36m<module>\u001b[1;34m\u001b[0m\n\u001b[0;32m     21\u001b[0m \u001b[0ma\u001b[0m\u001b[1;33m[\u001b[0m\u001b[1;36m1\u001b[0m\u001b[1;33m]\u001b[0m\u001b[1;33m\u001b[0m\u001b[1;33m\u001b[0m\u001b[0m\n\u001b[0;32m     22\u001b[0m \u001b[0mprint\u001b[0m\u001b[1;33m(\u001b[0m\u001b[0ma\u001b[0m\u001b[1;33m[\u001b[0m\u001b[1;36m1\u001b[0m\u001b[1;33m]\u001b[0m\u001b[1;33m)\u001b[0m\u001b[1;33m\u001b[0m\u001b[1;33m\u001b[0m\u001b[0m\n\u001b[1;32m---> 23\u001b[1;33m \u001b[0ma\u001b[0m\u001b[1;33m[\u001b[0m\u001b[1;36m1\u001b[0m\u001b[1;33m]\u001b[0m \u001b[1;33m=\u001b[0m \u001b[1;34m'y'\u001b[0m\u001b[1;33m\u001b[0m\u001b[1;33m\u001b[0m\u001b[0m\n\u001b[0m\u001b[0;32m     24\u001b[0m \u001b[0mprint\u001b[0m\u001b[1;33m(\u001b[0m\u001b[0ma\u001b[0m\u001b[1;33m[\u001b[0m\u001b[1;36m1\u001b[0m\u001b[1;33m]\u001b[0m\u001b[1;33m)\u001b[0m\u001b[1;33m\u001b[0m\u001b[1;33m\u001b[0m\u001b[0m\n\u001b[0;32m     25\u001b[0m \u001b[1;33m\u001b[0m\u001b[0m\n",
      "\u001b[1;31mTypeError\u001b[0m: 'str' object does not support item assignment"
     ]
    }
   ],
   "source": [
    "a = \"20190909Sunny\"\n",
    "print(a)\n",
    "date = a[:8]\n",
    "weather = a[8:]\n",
    "print(date)\n",
    "print(weather)\n",
    "\n",
    "a = \"20190917Rainy\"\n",
    "print(a)\n",
    "year = a[:4]\n",
    "print(year)\n",
    "day = a[4:8]\n",
    "print(day)\n",
    "weather = a[8:]\n",
    "print(weather)\n",
    "print(year,day,weather)\n",
    "\n",
    "# \"Pithon\"이라는 문자열을 \"Python\"으로 바꾸려면?\n",
    "a = \"Pithon\"\n",
    "print(a)\n",
    "a[1]\n",
    "print(a[1])\n",
    "a[1] = 'y' \n",
    "print(a[1])\n",
    "\n"
   ]
  },
  {
   "source": [
    "### 그 외\n"
   ],
   "cell_type": "markdown",
   "metadata": {}
  },
  {
   "cell_type": "code",
   "execution_count": 27,
   "metadata": {},
   "outputs": [
    {
     "output_type": "stream",
     "name": "stdout",
     "text": [
      "Pithon\nP\nthon\nPython\n"
     ]
    }
   ],
   "source": [
    "a = \"Pithon\"\n",
    "print(a)\n",
    "a[:1]\n",
    "print(a[:1])\n",
    "a[2:]\n",
    "print(a[2:])\n",
    "a[:1] + 'y' + a[2:]  # Python\n",
    "print(a[:1] + 'y' + a[2:])"
   ]
  },
  {
   "cell_type": "code",
   "execution_count": null,
   "metadata": {},
   "outputs": [],
   "source": []
  }
 ]
}