{
  "nbformat": 4,
  "nbformat_minor": 0,
  "metadata": {
    "colab": {
      "name": "ch8_exercises_PB13.ipynb",
      "provenance": []
    },
    "kernelspec": {
      "name": "python3",
      "display_name": "Python 3"
    },
    "language_info": {
      "name": "python"
    }
  },
  "cells": [
    {
      "cell_type": "markdown",
      "metadata": {
        "id": "-oSn94Jpm9m4"
      },
      "source": [
        "# **ch8_exercises_PB13.ipynb**"
      ]
    },
    {
      "cell_type": "markdown",
      "metadata": {
        "id": "Wxxotm0knEeL"
      },
      "source": [
        "Q1. 문자열 바꾸기\n",
        "\n",
        "> 다음과 같은 문자열이 있다.\n",
        "\n",
        "a:b:c:d\n",
        "> 문자열의 split와 join 함수를 사용하여 위 문자열을 다음과 같이 고치시오.\n",
        "\n",
        "a#b#c#d"
      ]
    },
    {
      "cell_type": "code",
      "metadata": {
        "colab": {
          "base_uri": "https://localhost:8080/",
          "height": 35
        },
        "id": "38-AO1WLnedc",
        "outputId": "50b44391-8df9-4b7c-cd8c-c61ddaed729e"
      },
      "source": [
        "# [Q1] Code-1 \n",
        "a = \"a:b:c:d\"\n",
        "b = a.split(\":\")  \n",
        "\n",
        "c = \"#\".join(b) \n",
        "c"
      ],
      "execution_count": 1,
      "outputs": [
        {
          "output_type": "execute_result",
          "data": {
            "application/vnd.google.colaboratory.intrinsic+json": {
              "type": "string"
            },
            "text/plain": [
              "'a#b#c#d'"
            ]
          },
          "metadata": {
            "tags": []
          },
          "execution_count": 1
        }
      ]
    },
    {
      "cell_type": "code",
      "metadata": {
        "colab": {
          "base_uri": "https://localhost:8080/",
          "height": 35
        },
        "id": "ygDVr4ObnmV0",
        "outputId": "45ccc8db-a26b-4fd5-9a7c-3100bba8f3e6"
      },
      "source": [
        "# [Q1] Code-2\n",
        "def split_join(str, split_str, join_str):\n",
        "    return join_str.join(str.split(split_str))  \n",
        "split_join(\"a:b:c:d\", \":\", \"#\")"
      ],
      "execution_count": 3,
      "outputs": [
        {
          "output_type": "execute_result",
          "data": {
            "application/vnd.google.colaboratory.intrinsic+json": {
              "type": "string"
            },
            "text/plain": [
              "'a#b#c#d'"
            ]
          },
          "metadata": {
            "tags": []
          },
          "execution_count": 3
        }
      ]
    },
    {
      "cell_type": "code",
      "metadata": {
        "colab": {
          "base_uri": "https://localhost:8080/",
          "height": 35
        },
        "id": "eyu8xY9Gnpcn",
        "outputId": "f5575ecd-dc25-42c4-973f-5895ce73d3dc"
      },
      "source": [
        "# [Q1] Code-3\n",
        "a = \"a:b:c:d\"  \n",
        "b = a.replace(\":\", \"#\")  \n",
        "b"
      ],
      "execution_count": 4,
      "outputs": [
        {
          "output_type": "execute_result",
          "data": {
            "application/vnd.google.colaboratory.intrinsic+json": {
              "type": "string"
            },
            "text/plain": [
              "'a#b#c#d'"
            ]
          },
          "metadata": {
            "tags": []
          },
          "execution_count": 4
        }
      ]
    },
    {
      "cell_type": "markdown",
      "metadata": {
        "id": "dKlK8dagn0QR"
      },
      "source": [
        "# **Q2. 딕셔너리 값 추출하기**\n",
        "\n",
        "> 다음은 딕셔너리의 a에서 'C'라는 key에 해당하는 value를 출력하는 프로그램이다.\n",
        "```\n",
        "     >>> a = {'A':90, 'B':80}\n",
        "     >>> a['C']\n",
        "     Traceback (most recent call last):\n",
        "       File \"<stdin>\", line 1, in <module>\n",
        "     KeyError: 'C'\n",
        "```\n",
        ">>* a 딕셔너리에는 'C'라는 key가 없으므로 위와 같은 오류가 발생한다.\n",
        "- 'C'에 해당하는 key 값이 없을 경우 오류 대신 70을 얻을 수 있도록 수정하시오."
      ]
    },
    {
      "cell_type": "code",
      "metadata": {
        "colab": {
          "base_uri": "https://localhost:8080/"
        },
        "id": "TsAJJvA2ouHZ",
        "outputId": "f356d98f-e407-4eaf-815c-3ebd406d6868"
      },
      "source": [
        "# [Q2] Code-1\n",
        "a = {'A':90, 'B':80}\n",
        "a.get('C',70)        # 'C'에 해당하는 값이 없기 때문에 70 출력"
      ],
      "execution_count": 5,
      "outputs": [
        {
          "output_type": "execute_result",
          "data": {
            "text/plain": [
              "70"
            ]
          },
          "metadata": {
            "tags": []
          },
          "execution_count": 5
        }
      ]
    },
    {
      "cell_type": "code",
      "metadata": {
        "colab": {
          "base_uri": "https://localhost:8080/"
        },
        "id": "Pt9uFNHTr0Iy",
        "outputId": "53fd85d5-9bcc-43b4-ebca-f30271f665dd"
      },
      "source": [
        "# [Q2] Code-2\n",
        "a = {'A':90, 'B':80}\n",
        "a['C'] = 70          # 딕셔너리 a에 'C':70 추가\n",
        "a['C']"
      ],
      "execution_count": 6,
      "outputs": [
        {
          "output_type": "execute_result",
          "data": {
            "text/plain": [
              "70"
            ]
          },
          "metadata": {
            "tags": []
          },
          "execution_count": 6
        }
      ]
    },
    {
      "cell_type": "code",
      "metadata": {
        "colab": {
          "base_uri": "https://localhost:8080/"
        },
        "id": "gjTvMZgJr3WJ",
        "outputId": "1961da2a-04d5-4145-f0b8-e7de8f4e0142"
      },
      "source": [
        "# [Q2] Code-3\n",
        "a = {'A':90, 'B':80}\n",
        "try:  # try 블록 수행 중 오류가 발생하면 except 블록이 수행된다. 하지만 try 블록에서 오류가 발생하지 않는다면 except 블록은 수행되지 않는다.\n",
        "    a['C']  # 하지만 딕셔너리의 'C'라는 key 값이 없기 때문에 오류 메시지 변수가 C 인 KeyError가 발생한다.\n",
        "except KeyError as C:  # 오류 메시지 변수가 C 인 KeyError가 발생한 경우 70을 출력하는 오류 예외 처리를 만든다.\n",
        "    print(70)"
      ],
      "execution_count": 7,
      "outputs": [
        {
          "output_type": "stream",
          "text": [
            "70\n"
          ],
          "name": "stdout"
        }
      ]
    },
    {
      "cell_type": "markdown",
      "metadata": {
        "id": "qpYMevNDr4Aq"
      },
      "source": [
        "# **Q3. 리스트의 더하기와 extend 함수**\n",
        "> 다음과 같은 리스트 a가 있다.\n",
        "\n",
        "\n",
        "```\n",
        " a = [1, 2, 3]\n",
        "```\n",
        "\n",
        "\n",
        "\n",
        "> 리스트 a에 [4, 5]를 + 기호를 사용하여 더한 결과는 다음과 같다.\n",
        "\n",
        "\n",
        "\n",
        "```\n",
        ">> a = [1, 2, 3]\n",
        ">> a = a + [4,5]\n",
        ">> a\n",
        "[1, 2, 3, 4, 5]\n",
        "```\n",
        " > 리스트 a에 [4,5]를 extend를 사용하여 더한 결과는 다음과 같다.\n",
        "\n",
        "\n",
        "\n",
        "```\n",
        ">> a = [1, 2, 3]\n",
        ">> a.extend([4, 5])\n",
        ">> a\n",
        "[1, 2, 3, 4, 5]\n",
        "```\n",
        "# + 기호를 사용하여 더한 것과 extend한 것의 차이점이 있을까? 있다면 그 차이점을 설명하시오"
      ]
    },
    {
      "cell_type": "code",
      "metadata": {
        "colab": {
          "base_uri": "https://localhost:8080/"
        },
        "id": "cjBzP_PitY0Z",
        "outputId": "48ef283a-c0fb-449d-9808-42d6128c19e7"
      },
      "source": [
        "# [Q3] Explain (코드와 주석으로 설명하시오)\n",
        "a = [1, 2, 3]\n",
        "print(id(a))  # 리스트 a의 주소값은 139947795417416 이다.\n",
        "a = a + [4, 5] # 리스트 a에 [4, 5]를 기본 연산자 + 로 더한다.\n",
        "print(a)  # 리스트 a는 [1, 2, 3, 4, 5]로 바뀌게 된다.\n",
        "print(id(a))  # 하지만 바뀐 리스트의 주소값은 139947794367112 로 처음 리스트 a와 주소값이 다르다. 정리하면 첫 리스트와 다른 새로운 리스트가 반환되었다."
      ],
      "execution_count": 8,
      "outputs": [
        {
          "output_type": "stream",
          "text": [
            "140464103003952\n",
            "[1, 2, 3, 4, 5]\n",
            "140464103097040\n"
          ],
          "name": "stdout"
        }
      ]
    },
    {
      "cell_type": "code",
      "metadata": {
        "colab": {
          "base_uri": "https://localhost:8080/"
        },
        "id": "pzS2jZ6PtcpC",
        "outputId": "304994c4-44f9-49b8-dc7a-e10301485e81"
      },
      "source": [
        "# [Q3]-code-2\n",
        "a = [1, 2, 3]\n",
        "print(id(a))  # 리스트 a의 주소값은 139947794689736 이다.\n",
        "a.extend([4, 5])  # 리스트 a에 extend를 이용하여 [4, 5]를 더한다.\n",
        "print(a)  # 리스트 a는 [1, 2, 3, 4, 5]로 바뀌게 된다.\n",
        "print(id(a))  # 바뀐 리스트의 주소값은 139947794689736 으로 처음 리스트 a와 주소값이 같다. 정리하면 바뀐 리스트는 첫 리스트와 같고 값만 다른 리스트이다."
      ],
      "execution_count": 9,
      "outputs": [
        {
          "output_type": "stream",
          "text": [
            "140464103033424\n",
            "[1, 2, 3, 4, 5]\n",
            "140464103033424\n"
          ],
          "name": "stdout"
        }
      ]
    },
    {
      "cell_type": "markdown",
      "metadata": {
        "id": "tk-nyj0NtfFD"
      },
      "source": [
        "# **Q4. 리스트 총합 구하기**\n",
        "\n",
        ">다음은 A학급 학생의 점수를 나타내는 리스트이다. 다음 리스트에서 50점 이상 점수의 총합을 구하시오.\n",
        "* A = [20, 55, 67, 82, 45, 33, 90, 87, 100, 25]"
      ]
    },
    {
      "cell_type": "code",
      "metadata": {
        "colab": {
          "base_uri": "https://localhost:8080/"
        },
        "id": "OcWrsMnatuh-",
        "outputId": "585e0ba3-2c7c-4997-bd63-eafbcc9cedc4"
      },
      "source": [
        "# [Q4] Code-1\n",
        "A = [20, 55, 67, 82, 45, 33, 90, 87, 100, 25]\n",
        "result = 0\n",
        "\n",
        "while A:              # A 리스트에 값이 있는 동안\n",
        "    grade = A.pop()   # A 리스트의 마지막 항목을 하나씩 뽑아냄\n",
        "    if grade >= 50:   # 숫자가 50 이상 일 때 누적하여 더해줌\n",
        "        result += grade\n",
        "        \n",
        "print(A)\n",
        "print(result)"
      ],
      "execution_count": 10,
      "outputs": [
        {
          "output_type": "stream",
          "text": [
            "[]\n",
            "481\n"
          ],
          "name": "stdout"
        }
      ]
    },
    {
      "cell_type": "code",
      "metadata": {
        "colab": {
          "base_uri": "https://localhost:8080/"
        },
        "id": "nxuETux8tw_l",
        "outputId": "b6188ad1-0a5a-49c5-8a28-c1d558196635"
      },
      "source": [
        "# [Q4] Code-2\n",
        "A = [20, 55, 67, 82, 45, 33, 90, 87, 100, 25]\n",
        "result = 0\n",
        "\n",
        "for i in A: \n",
        "  if i >= 50:\n",
        "    result += i\n",
        "\n",
        "print(result)"
      ],
      "execution_count": 11,
      "outputs": [
        {
          "output_type": "stream",
          "text": [
            "481\n"
          ],
          "name": "stdout"
        }
      ]
    },
    {
      "cell_type": "markdown",
      "metadata": {
        "id": "E76HOJ6lt2__"
      },
      "source": [
        "# **Q5. 피보나치 함수**\n",
        "> 첫 번째 항의 값이 0이고 두 번째 항의 값이 1일 때, 이후에 이어지는 항은 이전의 두 항을 더한 값으로 이루어지는 수열을 피보나치 수열이라고 한다.\n",
        ">* 0, 1, 1, 2, 3, 5, 8, 13, 21, ...\n",
        "\n",
        "> 입력을 정수 n으로 받았을 때, n 이하까지의 피보나치 수열을 출력하는 함수를 작성해 보자."
      ]
    },
    {
      "cell_type": "code",
      "metadata": {
        "colab": {
          "base_uri": "https://localhost:8080/"
        },
        "id": "VgFedH6JuM3O",
        "outputId": "e755d179-f106-4143-d9ff-a56eaf03f59e"
      },
      "source": [
        "# [Q5] Code-1\n",
        "num = int(input(\"피보나치 수열의 최댓값을 입력하세요.:\"))\n",
        "result = 0   # 출력되는 결과\n",
        "two = 1      # 두번째 숫자\n",
        "\n",
        "if num > 0:  # 입력받은 값이 0보면 클 경우\n",
        " while result <= num:                   # result의 값이 num과 같아 질때 까지 반복\n",
        "    print(result ,end = \" \")            # 현재 result의 값 출력(첫번째일때는 0)\n",
        "    one = result                        # 가장최근에 출력된 첫번째 result를 one에 대입\n",
        "    result = two                        # result의 값을 while문이 돌기전 two의 값으로 교체(첫번째일떄는 1)\n",
        "    two = one + two                     # two에 첫번째 숫자와 두번째 숫자를 더한 값을 대입\n",
        "else:\n",
        "    print(\"호완되는 숫자가 아닙니다.\")"
      ],
      "execution_count": 12,
      "outputs": [
        {
          "output_type": "stream",
          "text": [
            "피보나치 수열의 최댓값을 입력하세요.:10\n",
            "0 1 1 2 3 5 8 "
          ],
          "name": "stdout"
        }
      ]
    },
    {
      "cell_type": "code",
      "metadata": {
        "colab": {
          "base_uri": "https://localhost:8080/"
        },
        "id": "_It3eQbsuPg5",
        "outputId": "a60f21f4-feb0-4edf-f0f2-2448eabf23b1"
      },
      "source": [
        "# [Q5] Code-2\n",
        "b=0\n",
        "a = int(input(\"n번째 숫자만큼의 입력하세요.:\"))\n",
        "def fibo(num):\n",
        "    if num == 0: return 0             # num이 0일때 0 리턴\n",
        "    if num == 1: return 1             # num이 1일때 1리턴\n",
        "    return fibo(num-2) + fibo(num-1)  # num이 2이상일 경우 fibo(num-2)과 fibo(num-1)을 반환하여 더함\n",
        "\n",
        "for i in range(a):\n",
        "    print(fibo(i), end = \" \")"
      ],
      "execution_count": 13,
      "outputs": [
        {
          "output_type": "stream",
          "text": [
            "n번째 숫자만큼의 입력하세요.:14\n",
            "0 1 1 2 3 5 8 13 21 34 55 89 144 233 "
          ],
          "name": "stdout"
        }
      ]
    },
    {
      "cell_type": "markdown",
      "metadata": {
        "id": "vrM-kO6VuVVU"
      },
      "source": [
        "# **Q6. 숫자의 총합 구하기**\n",
        "> 사용자로부터 다음과 같은 숫자를 입력받아 입력받은 숫자의 총합을 구하는 프로그램을 작성하시오. (단 숫자는 콤마로 구분하여 입력한다.)\n",
        "\n",
        "65,45,2,3,45,8"
      ]
    },
    {
      "cell_type": "code",
      "metadata": {
        "colab": {
          "base_uri": "https://localhost:8080/"
        },
        "id": "kqBKZZs8uaje",
        "outputId": "b42db72a-49b6-4fe3-9d35-13cf2a30629a"
      },
      "source": [
        "# [Q6] Code-1\n",
        "user_input = input(\"숫자를 입력하세요: \")\n",
        "numbers = user_input.split(\",\") # 입력 받은 숫자들을 \",\"를 기준으로 나눈다.\n",
        "total = 0\n",
        "for n in numbers:\n",
        "    total += int(n)   # 입력은 문자열이므로 int를 이용해 숫자로 변환 후 total에 더해준다.\n",
        "print(total)"
      ],
      "execution_count": 14,
      "outputs": [
        {
          "output_type": "stream",
          "text": [
            "숫자를 입력하세요: 65,42,2,3,45,8\n",
            "165\n"
          ],
          "name": "stdout"
        }
      ]
    },
    {
      "cell_type": "code",
      "metadata": {
        "colab": {
          "base_uri": "https://localhost:8080/"
        },
        "id": "5H2cpVEMuce6",
        "outputId": "a41328d2-d10b-486d-f727-4bfba8f95f2f"
      },
      "source": [
        "# [Q6] Code-2\n",
        "numbers = map(int, input(\"숫자를 입력하세요: \").split(\",\"))   # map 함수를 이용해 받은 숫자들을 리스트에 입력한다. int를 이용해서 입력을 문자열이 아닌 숫자로 받는다.\n",
        "total = 0\n",
        "for n in numbers:\n",
        "    total += n\n",
        "print(total)"
      ],
      "execution_count": 15,
      "outputs": [
        {
          "output_type": "stream",
          "text": [
            "숫자를 입력하세요: 65,42,2,3,45,8\n",
            "165\n"
          ],
          "name": "stdout"
        }
      ]
    },
    {
      "cell_type": "code",
      "metadata": {
        "colab": {
          "base_uri": "https://localhost:8080/"
        },
        "id": "Z7uxtkJ5ujt1",
        "outputId": "973f4629-acd9-4d0c-8cd1-6c10db5a5967"
      },
      "source": [
        "# [Q6] Code-3\n",
        "numbers = map(int, input(\"숫자를 입력하세요: \").split(\",\")) \n",
        "total = sum(numbers) \n",
        "print(total)"
      ],
      "execution_count": 17,
      "outputs": [
        {
          "output_type": "stream",
          "text": [
            "숫자를 입력하세요: 65,42,2,3,45,8\n",
            "165\n"
          ],
          "name": "stdout"
        }
      ]
    },
    {
      "cell_type": "markdown",
      "metadata": {
        "id": "QaNR3BgDusXO"
      },
      "source": [
        "# **Q7. 한 줄 구구단**\n",
        "> 사용자로부터 2~9의 숫자 중 하나를 입력받아 해당 숫자의 구구단을 한 줄로 출력하는 프로그램을 작성하시오.\n",
        "\n",
        "> 실행 예)\n",
        "구구단을 출력할 숫자를 입력하세요(2~9): 2\n",
        "* 2 4 6 8 10 12 14 16 18"
      ]
    },
    {
      "cell_type": "code",
      "metadata": {
        "colab": {
          "base_uri": "https://localhost:8080/"
        },
        "id": "Dz-CGs_rvEfv",
        "outputId": "ff1ba129-5a4b-4877-bda5-58e2683d9fd8"
      },
      "source": [
        "\n",
        "# [Q7] Code-1\n",
        "user_input = input(\"구구단을 출력할 숫자를 입력하세요(2~9):\")\n",
        "gugudan = int(user_input)  \n",
        "for i in range(1, 10): \n",
        "    print(i*gugudan, end= ' ')"
      ],
      "execution_count": 18,
      "outputs": [
        {
          "output_type": "stream",
          "text": [
            "구구단을 출력할 숫자를 입력하세요(2~9):2\n",
            "2 4 6 8 10 12 14 16 18 "
          ],
          "name": "stdout"
        }
      ]
    },
    {
      "cell_type": "code",
      "metadata": {
        "colab": {
          "base_uri": "https://localhost:8080/"
        },
        "id": "UYbJE_2ZvKQ-",
        "outputId": "7c1ecd80-dc6d-4fa4-8f6a-6a8a33d96164"
      },
      "source": [
        "# [Q7] Code-2\n",
        "user_input = input(\"구구단을 출력할 숫자를 입력하세요(2~9):\")\n",
        "gugudan = int(user_input)\n",
        "i = 1\n",
        "\n",
        "while(i<10):\n",
        "    print(i*gugudan, end= ' ') \n",
        "    i += 1"
      ],
      "execution_count": 21,
      "outputs": [
        {
          "output_type": "stream",
          "text": [
            "구구단을 출력할 숫자를 입력하세요(2~9):3\n",
            "3 6 9 12 15 18 21 24 27 "
          ],
          "name": "stdout"
        }
      ]
    },
    {
      "cell_type": "code",
      "metadata": {
        "colab": {
          "base_uri": "https://localhost:8080/"
        },
        "id": "TPYJBrgBvOUb",
        "outputId": "338e8ed8-612a-4bd1-8426-a0c1ad2888d2"
      },
      "source": [
        "# [Q7] Code-3\n",
        "user_input = input(\"구구단을 출력할 숫자를 입력하세요(2~9):\")\n",
        "gugudan = int(user_input)\n",
        "\n",
        "def times_table(a):\n",
        "    for i in range(1, 10): \n",
        "      print(i*a, end= ' ')  \n",
        "\n",
        "times_table(gugudan)"
      ],
      "execution_count": 20,
      "outputs": [
        {
          "output_type": "stream",
          "text": [
            "구구단을 출력할 숫자를 입력하세요(2~9):4\n",
            "4 8 12 16 20 24 28 32 36 "
          ],
          "name": "stdout"
        }
      ]
    },
    {
      "cell_type": "code",
      "metadata": {
        "colab": {
          "base_uri": "https://localhost:8080/"
        },
        "id": "2OITbCbnvXLj",
        "outputId": "ef5e080e-b232-4664-ce1c-2bbd7f042122"
      },
      "source": [
        "# [Q7] Code-4\n",
        "gugudan_input = input(\"구구단을 출력할 숫자를 입력하세요(2~9):\")\n",
        "\n",
        "list1 = [ n*int(dan) for n in range(1,10) for dan in gugudan_input ]\n",
        "print(list1)"
      ],
      "execution_count": 22,
      "outputs": [
        {
          "output_type": "stream",
          "text": [
            "구구단을 출력할 숫자를 입력하세요(2~9):5\n",
            "[5, 10, 15, 20, 25, 30, 35, 40, 45]\n"
          ],
          "name": "stdout"
        }
      ]
    },
    {
      "cell_type": "markdown",
      "metadata": {
        "id": "dOI2zRSpvf2n"
      },
      "source": [
        "\n",
        "# **Q8. 역순 저장**\n",
        "> 다음과 같은 내용의 파일 abc.txt가 있다.\n",
        "\n",
        "\n",
        "\n",
        "```\n",
        "AAA\n",
        "BBB\n",
        "CCC\n",
        "DDD\n",
        "EEE\n",
        "```\n",
        "\n",
        ">이 파일의 내용을 다음과 같이 역순으로 바꾸어 저장하시오.\n",
        "\n",
        "\n",
        "```\n",
        "EEE\n",
        "DDD\n",
        "CCC\n",
        "BBB\n",
        "AAA\n",
        "```\n",
        "\n"
      ]
    },
    {
      "cell_type": "code",
      "metadata": {
        "colab": {
          "base_uri": "https://localhost:8080/",
          "height": 244
        },
        "id": "M8ajL5oKvpt6",
        "outputId": "93120a87-6208-4a41-f5cf-c3294e58a63f"
      },
      "source": [
        "# [Q8] Code-1\n",
        "f = open('abc.txt','r')    # 읽기 모드\n",
        "eng = f.readlines()        # txt내의 모든 줄을 읽음\n",
        "f.close()\n",
        "\n",
        "for eng in reversed(open(\"abc.txt\").readlines()):   # txt내의 모든 줄을 읽은 뒤 순서를 반대로 돌림\n",
        "    print(eng.strip())"
      ],
      "execution_count": 23,
      "outputs": [
        {
          "output_type": "error",
          "ename": "FileNotFoundError",
          "evalue": "ignored",
          "traceback": [
            "\u001b[0;31m---------------------------------------------------------------------------\u001b[0m",
            "\u001b[0;31mFileNotFoundError\u001b[0m                         Traceback (most recent call last)",
            "\u001b[0;32m<ipython-input-23-467b725e3d03>\u001b[0m in \u001b[0;36m<module>\u001b[0;34m()\u001b[0m\n\u001b[1;32m      1\u001b[0m \u001b[0;31m# [Q8] Code-1\u001b[0m\u001b[0;34m\u001b[0m\u001b[0;34m\u001b[0m\u001b[0;34m\u001b[0m\u001b[0m\n\u001b[0;32m----> 2\u001b[0;31m \u001b[0mf\u001b[0m \u001b[0;34m=\u001b[0m \u001b[0mopen\u001b[0m\u001b[0;34m(\u001b[0m\u001b[0;34m'abc.txt'\u001b[0m\u001b[0;34m,\u001b[0m\u001b[0;34m'r'\u001b[0m\u001b[0;34m)\u001b[0m    \u001b[0;31m# 읽기 모드\u001b[0m\u001b[0;34m\u001b[0m\u001b[0;34m\u001b[0m\u001b[0m\n\u001b[0m\u001b[1;32m      3\u001b[0m \u001b[0meng\u001b[0m \u001b[0;34m=\u001b[0m \u001b[0mf\u001b[0m\u001b[0;34m.\u001b[0m\u001b[0mreadlines\u001b[0m\u001b[0;34m(\u001b[0m\u001b[0;34m)\u001b[0m        \u001b[0;31m# txt내의 모든 줄을 읽음\u001b[0m\u001b[0;34m\u001b[0m\u001b[0;34m\u001b[0m\u001b[0m\n\u001b[1;32m      4\u001b[0m \u001b[0mf\u001b[0m\u001b[0;34m.\u001b[0m\u001b[0mclose\u001b[0m\u001b[0;34m(\u001b[0m\u001b[0;34m)\u001b[0m\u001b[0;34m\u001b[0m\u001b[0;34m\u001b[0m\u001b[0m\n\u001b[1;32m      5\u001b[0m \u001b[0;34m\u001b[0m\u001b[0m\n",
            "\u001b[0;31mFileNotFoundError\u001b[0m: [Errno 2] No such file or directory: 'abc.txt'"
          ]
        }
      ]
    },
    {
      "cell_type": "code",
      "metadata": {
        "id": "u6Jup493v2hp"
      },
      "source": [
        "# [Q8] Code-2\n",
        "f = open('abc.txt', 'r')\n",
        "lines = f.readlines()    # 모든 라인을 읽음\n",
        "f.close()\n",
        "\n",
        "lines.reverse()          # 읽은 라인을 역순으로 정렬\n",
        "\n",
        "f = open('abc.txt', 'w')\n",
        "for line in lines:\n",
        "    line = line.strip()  # 포함되어 있는 줄 바꿈 문자 제거\n",
        "    f.write(line)\n",
        "    f.write('\\n')        # 줄 바꿈 문자 삽입\n",
        "f.close()"
      ],
      "execution_count": null,
      "outputs": []
    },
    {
      "cell_type": "code",
      "metadata": {
        "colab": {
          "base_uri": "https://localhost:8080/",
          "height": 226
        },
        "id": "473ZNhicv4la",
        "outputId": "06aec852-0eb1-4778-d38b-4b32dfcf3ca5"
      },
      "source": [
        "f = open(\"/content/abc.txt\",'r')\n",
        "line=f.read()\n",
        "print(line)\n",
        "f.close()"
      ],
      "execution_count": 26,
      "outputs": [
        {
          "output_type": "error",
          "ename": "FileNotFoundError",
          "evalue": "ignored",
          "traceback": [
            "\u001b[0;31m---------------------------------------------------------------------------\u001b[0m",
            "\u001b[0;31mFileNotFoundError\u001b[0m                         Traceback (most recent call last)",
            "\u001b[0;32m<ipython-input-26-c0dc258c93b5>\u001b[0m in \u001b[0;36m<module>\u001b[0;34m()\u001b[0m\n\u001b[0;32m----> 1\u001b[0;31m \u001b[0mf\u001b[0m \u001b[0;34m=\u001b[0m \u001b[0mopen\u001b[0m\u001b[0;34m(\u001b[0m\u001b[0;34m\"/content/abc.txt\"\u001b[0m\u001b[0;34m,\u001b[0m\u001b[0;34m'r'\u001b[0m\u001b[0;34m)\u001b[0m\u001b[0;34m\u001b[0m\u001b[0;34m\u001b[0m\u001b[0m\n\u001b[0m\u001b[1;32m      2\u001b[0m \u001b[0mline\u001b[0m\u001b[0;34m=\u001b[0m\u001b[0mf\u001b[0m\u001b[0;34m.\u001b[0m\u001b[0mread\u001b[0m\u001b[0;34m(\u001b[0m\u001b[0;34m)\u001b[0m\u001b[0;34m\u001b[0m\u001b[0;34m\u001b[0m\u001b[0m\n\u001b[1;32m      3\u001b[0m \u001b[0mprint\u001b[0m\u001b[0;34m(\u001b[0m\u001b[0mline\u001b[0m\u001b[0;34m)\u001b[0m\u001b[0;34m\u001b[0m\u001b[0;34m\u001b[0m\u001b[0m\n\u001b[1;32m      4\u001b[0m \u001b[0mf\u001b[0m\u001b[0;34m.\u001b[0m\u001b[0mclose\u001b[0m\u001b[0;34m(\u001b[0m\u001b[0;34m)\u001b[0m\u001b[0;34m\u001b[0m\u001b[0;34m\u001b[0m\u001b[0m\n",
            "\u001b[0;31mFileNotFoundError\u001b[0m: [Errno 2] No such file or directory: '/content/abc.txt'"
          ]
        }
      ]
    },
    {
      "cell_type": "markdown",
      "metadata": {
        "id": "jydlVqNywWPl"
      },
      "source": [
        "# **Q9. 평균값 구하기**\n",
        "> 다음과 같이 총 10줄로 이루어진 sample.txt 파일이 있다. sample.txt 파일의 숫자 값을 모두 읽어 총합과 평균 값을 구한 후 평균 값을 result.txt 파일에 쓰는 프로그램을 작성하시오.\n",
        "\n",
        "70\n",
        "60\n",
        "55\n",
        "75\n",
        "95\n",
        "90\n",
        "80\n",
        "80\n",
        "85\n",
        "100"
      ]
    },
    {
      "cell_type": "code",
      "metadata": {
        "colab": {
          "base_uri": "https://localhost:8080/",
          "height": 244
        },
        "id": "h45HXLY9we0k",
        "outputId": "3a632a2e-c10e-45c5-97a6-b57e7709333e"
      },
      "source": [
        "# [Q9] Code-1\n",
        "f = open(\"sample.txt\")\n",
        "grade = f.readlines( )         # sample.txt를 줄 단위로 lines에 저장\n",
        "f.close( )\n",
        "Sum = 0\n",
        "\n",
        "for num in grade:\n",
        "    score = int(num)          # 줄에 적힌 숫자를 정수단위로 변환\n",
        "    Sum += score\n",
        "average = Sum / len(grade)\n",
        "print(Sum)\n",
        "\n",
        "f = open(\"result.txt\", \"w\")\n",
        "f.write(str(average))          # 숫자는 txt에 바로 쓸 수 없기 때문에 문자형으로 변환\n",
        "f.close()\n",
        "\n",
        "f = open(\"result.txt\",\"r\")\n",
        "grade_average = f.read()\n",
        "print(grade_average)\n",
        "f.close()"
      ],
      "execution_count": 27,
      "outputs": [
        {
          "output_type": "error",
          "ename": "FileNotFoundError",
          "evalue": "ignored",
          "traceback": [
            "\u001b[0;31m---------------------------------------------------------------------------\u001b[0m",
            "\u001b[0;31mFileNotFoundError\u001b[0m                         Traceback (most recent call last)",
            "\u001b[0;32m<ipython-input-27-22a11e1dcec7>\u001b[0m in \u001b[0;36m<module>\u001b[0;34m()\u001b[0m\n\u001b[1;32m      1\u001b[0m \u001b[0;31m# [Q9] Code-1\u001b[0m\u001b[0;34m\u001b[0m\u001b[0;34m\u001b[0m\u001b[0;34m\u001b[0m\u001b[0m\n\u001b[0;32m----> 2\u001b[0;31m \u001b[0mf\u001b[0m \u001b[0;34m=\u001b[0m \u001b[0mopen\u001b[0m\u001b[0;34m(\u001b[0m\u001b[0;34m\"sample.txt\"\u001b[0m\u001b[0;34m)\u001b[0m\u001b[0;34m\u001b[0m\u001b[0;34m\u001b[0m\u001b[0m\n\u001b[0m\u001b[1;32m      3\u001b[0m \u001b[0mgrade\u001b[0m \u001b[0;34m=\u001b[0m \u001b[0mf\u001b[0m\u001b[0;34m.\u001b[0m\u001b[0mreadlines\u001b[0m\u001b[0;34m(\u001b[0m \u001b[0;34m)\u001b[0m         \u001b[0;31m# sample.txt를 줄 단위로 lines에 저장\u001b[0m\u001b[0;34m\u001b[0m\u001b[0;34m\u001b[0m\u001b[0m\n\u001b[1;32m      4\u001b[0m \u001b[0mf\u001b[0m\u001b[0;34m.\u001b[0m\u001b[0mclose\u001b[0m\u001b[0;34m(\u001b[0m \u001b[0;34m)\u001b[0m\u001b[0;34m\u001b[0m\u001b[0;34m\u001b[0m\u001b[0m\n\u001b[1;32m      5\u001b[0m \u001b[0mSum\u001b[0m \u001b[0;34m=\u001b[0m \u001b[0;36m0\u001b[0m\u001b[0;34m\u001b[0m\u001b[0;34m\u001b[0m\u001b[0m\n",
            "\u001b[0;31mFileNotFoundError\u001b[0m: [Errno 2] No such file or directory: 'sample.txt'"
          ]
        }
      ]
    },
    {
      "cell_type": "code",
      "metadata": {
        "colab": {
          "base_uri": "https://localhost:8080/",
          "height": 244
        },
        "id": "Cvbp3lA9wxvG",
        "outputId": "31fff158-7abf-4469-e7fe-812646731e3a"
      },
      "source": [
        "# [Q9] Code-2\n",
        "f = open(\"sample.txt\",'r')\n",
        "grade = f.readlines()\n",
        "grade = list(map(int, grade))\n",
        "average = 0\n",
        "\n",
        "for i in grade:\n",
        "    average += i/len(grade)\n",
        "\n",
        "f = open(\"result.txt\", \"w\")\n",
        "f.write(str(average))          # 숫자는 txt에 바로 쓸 수 없기 때문에 문자형으로 변환\n",
        "f.close()\n",
        "\n",
        "f = open(\"result.txt\",\"r\")\n",
        "grade_average = f.read()\n",
        "print(grade_average)\n",
        "f.close()"
      ],
      "execution_count": 28,
      "outputs": [
        {
          "output_type": "error",
          "ename": "FileNotFoundError",
          "evalue": "ignored",
          "traceback": [
            "\u001b[0;31m---------------------------------------------------------------------------\u001b[0m",
            "\u001b[0;31mFileNotFoundError\u001b[0m                         Traceback (most recent call last)",
            "\u001b[0;32m<ipython-input-28-b2f4885b8c9f>\u001b[0m in \u001b[0;36m<module>\u001b[0;34m()\u001b[0m\n\u001b[1;32m      1\u001b[0m \u001b[0;31m# [Q9] Code-2\u001b[0m\u001b[0;34m\u001b[0m\u001b[0;34m\u001b[0m\u001b[0;34m\u001b[0m\u001b[0m\n\u001b[0;32m----> 2\u001b[0;31m \u001b[0mf\u001b[0m \u001b[0;34m=\u001b[0m \u001b[0mopen\u001b[0m\u001b[0;34m(\u001b[0m\u001b[0;34m\"sample.txt\"\u001b[0m\u001b[0;34m,\u001b[0m\u001b[0;34m'r'\u001b[0m\u001b[0;34m)\u001b[0m\u001b[0;34m\u001b[0m\u001b[0;34m\u001b[0m\u001b[0m\n\u001b[0m\u001b[1;32m      3\u001b[0m \u001b[0mgrade\u001b[0m \u001b[0;34m=\u001b[0m \u001b[0mf\u001b[0m\u001b[0;34m.\u001b[0m\u001b[0mreadlines\u001b[0m\u001b[0;34m(\u001b[0m\u001b[0;34m)\u001b[0m\u001b[0;34m\u001b[0m\u001b[0;34m\u001b[0m\u001b[0m\n\u001b[1;32m      4\u001b[0m \u001b[0mgrade\u001b[0m \u001b[0;34m=\u001b[0m \u001b[0mlist\u001b[0m\u001b[0;34m(\u001b[0m\u001b[0mmap\u001b[0m\u001b[0;34m(\u001b[0m\u001b[0mint\u001b[0m\u001b[0;34m,\u001b[0m \u001b[0mgrade\u001b[0m\u001b[0;34m)\u001b[0m\u001b[0;34m)\u001b[0m\u001b[0;34m\u001b[0m\u001b[0;34m\u001b[0m\u001b[0m\n\u001b[1;32m      5\u001b[0m \u001b[0maverage\u001b[0m \u001b[0;34m=\u001b[0m \u001b[0;36m0\u001b[0m\u001b[0;34m\u001b[0m\u001b[0;34m\u001b[0m\u001b[0m\n",
            "\u001b[0;31mFileNotFoundError\u001b[0m: [Errno 2] No such file or directory: 'sample.txt'"
          ]
        }
      ]
    },
    {
      "cell_type": "code",
      "metadata": {
        "colab": {
          "base_uri": "https://localhost:8080/",
          "height": 244
        },
        "id": "EqsgUStaw0ky",
        "outputId": "9184d6f9-67f0-47d6-c757-06ebff448e91"
      },
      "source": [
        "# [Q9] Code-3\n",
        "f = open(\"sample.txt\",'r')\n",
        "grade = f.readlines()\n",
        "grade = list(map(int, grade))\n",
        "\n",
        "Sum = sum(grade)\n",
        "average = Sum/len(grade)\n",
        "print(\"총합: %d\"%Sum)\n",
        "\n",
        "f = open(\"result.txt\", \"w\")\n",
        "f.write(str(average))          # 숫자는 txt에 바로 쓸 수 없기 때문에 문자형으로 변환\n",
        "f.close()\n",
        "\n",
        "f = open(\"result.txt\",\"r\")\n",
        "average = f.read()\n",
        "print(\"평균:\",average)\n",
        "f.close()"
      ],
      "execution_count": 29,
      "outputs": [
        {
          "output_type": "error",
          "ename": "FileNotFoundError",
          "evalue": "ignored",
          "traceback": [
            "\u001b[0;31m---------------------------------------------------------------------------\u001b[0m",
            "\u001b[0;31mFileNotFoundError\u001b[0m                         Traceback (most recent call last)",
            "\u001b[0;32m<ipython-input-29-6d6de80130e3>\u001b[0m in \u001b[0;36m<module>\u001b[0;34m()\u001b[0m\n\u001b[1;32m      1\u001b[0m \u001b[0;31m# [Q9] Code-3\u001b[0m\u001b[0;34m\u001b[0m\u001b[0;34m\u001b[0m\u001b[0;34m\u001b[0m\u001b[0m\n\u001b[0;32m----> 2\u001b[0;31m \u001b[0mf\u001b[0m \u001b[0;34m=\u001b[0m \u001b[0mopen\u001b[0m\u001b[0;34m(\u001b[0m\u001b[0;34m\"sample.txt\"\u001b[0m\u001b[0;34m,\u001b[0m\u001b[0;34m'r'\u001b[0m\u001b[0;34m)\u001b[0m\u001b[0;34m\u001b[0m\u001b[0;34m\u001b[0m\u001b[0m\n\u001b[0m\u001b[1;32m      3\u001b[0m \u001b[0mgrade\u001b[0m \u001b[0;34m=\u001b[0m \u001b[0mf\u001b[0m\u001b[0;34m.\u001b[0m\u001b[0mreadlines\u001b[0m\u001b[0;34m(\u001b[0m\u001b[0;34m)\u001b[0m\u001b[0;34m\u001b[0m\u001b[0;34m\u001b[0m\u001b[0m\n\u001b[1;32m      4\u001b[0m \u001b[0mgrade\u001b[0m \u001b[0;34m=\u001b[0m \u001b[0mlist\u001b[0m\u001b[0;34m(\u001b[0m\u001b[0mmap\u001b[0m\u001b[0;34m(\u001b[0m\u001b[0mint\u001b[0m\u001b[0;34m,\u001b[0m \u001b[0mgrade\u001b[0m\u001b[0;34m)\u001b[0m\u001b[0;34m)\u001b[0m\u001b[0;34m\u001b[0m\u001b[0;34m\u001b[0m\u001b[0m\n\u001b[1;32m      5\u001b[0m \u001b[0;34m\u001b[0m\u001b[0m\n",
            "\u001b[0;31mFileNotFoundError\u001b[0m: [Errno 2] No such file or directory: 'sample.txt'"
          ]
        }
      ]
    },
    {
      "cell_type": "markdown",
      "metadata": {
        "id": "hKMdfmdlw4Qk"
      },
      "source": [
        "# **Q10. 사칙연산 계산기**\n",
        "> 다음과 같이 동작하는 클래스 Calculator를 작성하시오.\n",
        "\n",
        "\n",
        "\n",
        "```\n",
        ">> cal1 = Calculator([1,2,3,4,5])\n",
        ">> cal1.sum() # 합계\n",
        "15\n",
        ">> cal1.avg() # 평균\n",
        "3.0\n",
        ">> cal2 = Calculator([6,7,8,9,10])\n",
        ">> cal2.sum() # 합계\n",
        "40\n",
        ">> cal2.avg() # 평균\n",
        "8.0\n",
        "```\n",
        "\n"
      ]
    },
    {
      "cell_type": "code",
      "metadata": {
        "colab": {
          "base_uri": "https://localhost:8080/"
        },
        "id": "Azu83_JAw_i1",
        "outputId": "0ad2ffc0-ad9f-47f0-f9e6-644019635fe1"
      },
      "source": [
        "# [Q10] Code-1\n",
        "class Calculator:\n",
        "    def __init__ (self, numberList): \n",
        "        self.numberList = numberList\n",
        "        \n",
        "    def add(self): \n",
        "        result = 0\n",
        "        for num in self.numberList: \n",
        "            result += num\n",
        "        return result\n",
        "\n",
        "    def avg(self):\n",
        "        total = self.add()\n",
        "        return total / len(self.numberList)\n",
        "\n",
        "cal1 = Calculator([1,2,3,4,5]) \n",
        "print (cal1.add())\n",
        "print (cal1.avg())\n",
        "\n",
        "cal2 = Calculator([6,7,8,9,10]) \n",
        "print (cal2.add())\n",
        "print (cal2.avg())"
      ],
      "execution_count": 30,
      "outputs": [
        {
          "output_type": "stream",
          "text": [
            "15\n",
            "3.0\n",
            "40\n",
            "8.0\n"
          ],
          "name": "stdout"
        }
      ]
    },
    {
      "cell_type": "code",
      "metadata": {
        "colab": {
          "base_uri": "https://localhost:8080/"
        },
        "id": "p8lxZOjBxBpx",
        "outputId": "f0229728-3d7b-47dc-e45f-1df7f6f66980"
      },
      "source": [
        "# [Q10] Code-2\n",
        "class Calculator:\n",
        "    def __init__(self, numberList):\n",
        "        self.numberList = numberList\n",
        " \n",
        "    def sum(self):  \n",
        "        result = 0\n",
        "        for num in self.numberList: \n",
        "            result += num\n",
        "        return result\n",
        "\n",
        "class UpgradeCalculator(Calculator):\n",
        "    def avg(self):\n",
        "        total = self.sum()\n",
        "        return total / len(self.numberList)\n",
        "\n",
        "cal1 = UpgradeCalculator([1,2,3,4,5])\n",
        "print(cal1.sum())\n",
        "print(cal1.avg())\n",
        "cal2 = UpgradeCalculator([6,7,8,9,10])\n",
        "print(cal2.sum())\n",
        "print(cal2.avg())"
      ],
      "execution_count": 31,
      "outputs": [
        {
          "output_type": "stream",
          "text": [
            "15\n",
            "3.0\n",
            "40\n",
            "8.0\n"
          ],
          "name": "stdout"
        }
      ]
    },
    {
      "cell_type": "markdown",
      "metadata": {
        "id": "eD_wJPHlyIvE"
      },
      "source": [
        "\n",
        "\n",
        "---\n",
        "\n"
      ]
    },
    {
      "cell_type": "markdown",
      "metadata": {
        "id": "W2BjHdgSyO6U"
      },
      "source": [
        "# **Q11. 모듈 사용 방법**\n",
        "> ./doit 디렉터리에 mymod.py 파이썬 모듈이 있다고 가정해 보자. 명령 프롬프트 창에서 파이썬 셸을 열어 이 모듈을 import해서 사용할 수 있는 방법을 모두 기술하시오. (즉 다음과 같이 import mymod를 수행할 때 오류가 없어야 한다.)\n",
        "\n",
        "\n",
        "\n",
        "```\n",
        ">> import mymod\n",
        ">>\n",
        "```\n",
        "\n",
        "\n",
        "\n",
        "\n",
        "\n"
      ]
    },
    {
      "cell_type": "code",
      "metadata": {
        "id": "FzntX4jmycj1"
      },
      "source": [
        "!mkdir doit\n",
        "# 실행 후 새로 고침!\n",
        "# mymod.py 를 업로드한다."
      ],
      "execution_count": null,
      "outputs": []
    },
    {
      "cell_type": "code",
      "metadata": {
        "id": "K_w300obydO_"
      },
      "source": [
        "!mv mymod.py ./doit\n",
        "# 실행 후 새로 고침!"
      ],
      "execution_count": null,
      "outputs": []
    },
    {
      "cell_type": "code",
      "metadata": {
        "id": "pA86SlhpydYt"
      },
      "source": [
        "# [Q11] Code-1 sys 모듈 사용\n",
        "# 다음과 같이 sys.path에 /content/doit 이라는 디렉터리를 추가하면 /content/doit 이라는 디렉터리에 있는 mymod 모듈을 사용할 수 있게 된다.\n",
        "import sys\n",
        "sys.path.append(\"/content/doit\")\n",
        "import mymod"
      ],
      "execution_count": null,
      "outputs": []
    },
    {
      "cell_type": "code",
      "metadata": {
        "colab": {
          "base_uri": "https://localhost:8080/",
          "height": 244
        },
        "id": "8oPz3mYXykhw",
        "outputId": "957e8bce-67b8-4d08-fce6-9a2b7a727e71"
      },
      "source": [
        "# [Q11] Code-2 경로 이동 후 import\n",
        "# pwd 나 os.getcwd를 통해 경로를 파악한다. 현재 디렉터리의 위치는 /content 이므로 /content/doit 으로 바꿔주고 mymod 모듈을 import한다.\n",
        "import os\n",
        "print(os.getcwd())\n",
        "os.chdir(\"/content/doit\")\n",
        "import mymod"
      ],
      "execution_count": 32,
      "outputs": [
        {
          "output_type": "stream",
          "text": [
            "/content\n"
          ],
          "name": "stdout"
        },
        {
          "output_type": "error",
          "ename": "FileNotFoundError",
          "evalue": "ignored",
          "traceback": [
            "\u001b[0;31m---------------------------------------------------------------------------\u001b[0m",
            "\u001b[0;31mFileNotFoundError\u001b[0m                         Traceback (most recent call last)",
            "\u001b[0;32m<ipython-input-32-95f629071b74>\u001b[0m in \u001b[0;36m<module>\u001b[0;34m()\u001b[0m\n\u001b[1;32m      3\u001b[0m \u001b[0;32mimport\u001b[0m \u001b[0mos\u001b[0m\u001b[0;34m\u001b[0m\u001b[0;34m\u001b[0m\u001b[0m\n\u001b[1;32m      4\u001b[0m \u001b[0mprint\u001b[0m\u001b[0;34m(\u001b[0m\u001b[0mos\u001b[0m\u001b[0;34m.\u001b[0m\u001b[0mgetcwd\u001b[0m\u001b[0;34m(\u001b[0m\u001b[0;34m)\u001b[0m\u001b[0;34m)\u001b[0m\u001b[0;34m\u001b[0m\u001b[0;34m\u001b[0m\u001b[0m\n\u001b[0;32m----> 5\u001b[0;31m \u001b[0mos\u001b[0m\u001b[0;34m.\u001b[0m\u001b[0mchdir\u001b[0m\u001b[0;34m(\u001b[0m\u001b[0;34m\"/content/doit\"\u001b[0m\u001b[0;34m)\u001b[0m\u001b[0;34m\u001b[0m\u001b[0;34m\u001b[0m\u001b[0m\n\u001b[0m\u001b[1;32m      6\u001b[0m \u001b[0;32mimport\u001b[0m \u001b[0mmymod\u001b[0m\u001b[0;34m\u001b[0m\u001b[0;34m\u001b[0m\u001b[0m\n",
            "\u001b[0;31mFileNotFoundError\u001b[0m: [Errno 2] No such file or directory: '/content/doit'"
          ]
        }
      ]
    },
    {
      "cell_type": "code",
      "metadata": {
        "id": "SAOimyHTynno"
      },
      "source": [
        "# [Q11] Code-3 from을 이용해 경로 이동 후 import\n",
        "# 하위 경로의 파일은 from 하위 폴더 처럼 폴더를 지정해주어 import할 수 있다.\n",
        "from doit import mymod"
      ],
      "execution_count": null,
      "outputs": []
    },
    {
      "cell_type": "markdown",
      "metadata": {
        "id": "2mLV0C4aysVt"
      },
      "source": [
        "\n",
        "# **Q12. 오류와 예외 처리**\n",
        "> 다음 코드의 실행 결과를 예측하고 그 이유에 대해 설명하시오.\n",
        "\n",
        "result = 0\n",
        "\n",
        "try:\n",
        "\n",
        "    [1, 2, 3][3]\n",
        "    \"a\"+1\n",
        "    4 / 0\n",
        "\n",
        "except TypeError:\n",
        "\n",
        "    result += 1\n",
        "\n",
        "except ZeroDivisionError:\n",
        "\n",
        "    result += 2\n",
        "\n",
        "except IndexError:\n",
        "\n",
        "    result += 3\n",
        "\n",
        "finally:\n",
        "\n",
        "    result += 4\n",
        "\n",
        "print(result)"
      ]
    },
    {
      "cell_type": "code",
      "metadata": {
        "colab": {
          "base_uri": "https://localhost:8080/",
          "height": 244
        },
        "id": "zhvUKg7Gy9QB",
        "outputId": "dcff3ae2-facf-42a8-c626-625354636c0f"
      },
      "source": [
        "# [Q12] Explain\n",
        "result = 0\n",
        " \n",
        "try:\n",
        "    [1, 2, 3][3]\n",
        "    \"a\"+1\n",
        "    4 / 0\n",
        "\n",
        "finally:\n",
        "    result += 4\n",
        "\n",
        "print(result)"
      ],
      "execution_count": 33,
      "outputs": [
        {
          "output_type": "error",
          "ename": "IndexError",
          "evalue": "ignored",
          "traceback": [
            "\u001b[0;31m---------------------------------------------------------------------------\u001b[0m",
            "\u001b[0;31mIndexError\u001b[0m                                Traceback (most recent call last)",
            "\u001b[0;32m<ipython-input-33-c1d9dd79e354>\u001b[0m in \u001b[0;36m<module>\u001b[0;34m()\u001b[0m\n\u001b[1;32m      3\u001b[0m \u001b[0;34m\u001b[0m\u001b[0m\n\u001b[1;32m      4\u001b[0m \u001b[0;32mtry\u001b[0m\u001b[0;34m:\u001b[0m\u001b[0;34m\u001b[0m\u001b[0;34m\u001b[0m\u001b[0m\n\u001b[0;32m----> 5\u001b[0;31m     \u001b[0;34m[\u001b[0m\u001b[0;36m1\u001b[0m\u001b[0;34m,\u001b[0m \u001b[0;36m2\u001b[0m\u001b[0;34m,\u001b[0m \u001b[0;36m3\u001b[0m\u001b[0;34m]\u001b[0m\u001b[0;34m[\u001b[0m\u001b[0;36m3\u001b[0m\u001b[0;34m]\u001b[0m\u001b[0;34m\u001b[0m\u001b[0;34m\u001b[0m\u001b[0m\n\u001b[0m\u001b[1;32m      6\u001b[0m     \u001b[0;34m\"a\"\u001b[0m\u001b[0;34m+\u001b[0m\u001b[0;36m1\u001b[0m\u001b[0;34m\u001b[0m\u001b[0;34m\u001b[0m\u001b[0m\n\u001b[1;32m      7\u001b[0m     \u001b[0;36m4\u001b[0m \u001b[0;34m/\u001b[0m \u001b[0;36m0\u001b[0m\u001b[0;34m\u001b[0m\u001b[0;34m\u001b[0m\u001b[0m\n",
            "\u001b[0;31mIndexError\u001b[0m: list index out of range"
          ]
        }
      ]
    },
    {
      "cell_type": "code",
      "metadata": {
        "colab": {
          "base_uri": "https://localhost:8080/"
        },
        "id": "QwLdgo3xzCcE",
        "outputId": "ba84605b-236d-44fe-b4dc-0da7b9542969"
      },
      "source": [
        "# [Q12] Explain (코드와 주석으로 설명하시오)\n",
        "result = 0  # result의 초깃값은 0이다.\n",
        " \n",
        "try:  # try문 안의 [1, 2, 3][3] 이라는 문장 수행시 IndexError가 발생하여 except IndexError: 구문으로 이동하게 된다.\n",
        "    [1, 2, 3][3]\n",
        "    \"a\"+1\n",
        "    4 / 0\n",
        "except TypeError:\n",
        "    result += 1\n",
        "except ZeroDivisionError:\n",
        "    result += 2\n",
        "except IndexError:  # 위 이유로 구문이 실행되어 result에 3이 더해져 3이 된다.\n",
        "    result += 3\n",
        "finally:  # 최종적으로 finally 구문이 실행되어 result에 4가 더해져 7이 된다.\n",
        "    result += 4\n",
        " \n",
        "print(result) # 구문이 수행되어 최종 값인 7이 출력된다."
      ],
      "execution_count": 35,
      "outputs": [
        {
          "output_type": "stream",
          "text": [
            "7\n"
          ],
          "name": "stdout"
        }
      ]
    },
    {
      "cell_type": "markdown",
      "metadata": {
        "id": "Z0KFzcxozJHf"
      },
      "source": [
        "\n",
        "# **Q13. DashInsert 함수**\n",
        "> DashInsert 함수는 숫자로 구성된 문자열을 입력받은 뒤 문자열 안에서 홀수가 연속되면 두 수 사이에 - 를 추가하고, 짝수가 연속되면 * 를 추가하는 기능을 갖고 있다. DashInsert 함수를 완성하시오.\n",
        "\n",
        "입력 예시: 4546793\n",
        "\n",
        "출력 예시: 454*67-9-3"
      ]
    },
    {
      "cell_type": "code",
      "metadata": {
        "colab": {
          "base_uri": "https://localhost:8080/"
        },
        "id": "n0LpeVw_zO_W",
        "outputId": "60009b31-734f-48c3-b976-fc33a8e0e01f"
      },
      "source": [
        "# [Q13] Code-1\n",
        "dashnum = input(\"숫자를 입력하세요.\")\n",
        "numbers = list(map(int, dashnum))   # 숫자 문자열을 숫자 리스트로 변경\n",
        "result = []\n",
        "\n",
        "for i, num in enumerate(numbers):   # i:0 num:4\n",
        "    result.append(str(num))         # result에 숫자 추가\n",
        "    if i < len(numbers)-1:                   # 다음 수가 있다면\n",
        "        is_odd = num % 2 == 1                # 현재 수가 홀수\n",
        "        is_next_odd = numbers[i+1] % 2 == 1  # 다음 수가 홀수\n",
        "        if is_odd and is_next_odd:           # 연속 홀수\n",
        "            result.append(\"-\")\n",
        "        elif not is_odd and not is_next_odd: # 연속 짝수\n",
        "            result.append(\"*\")\n",
        "\n",
        "print(\"\".join(result))"
      ],
      "execution_count": 40,
      "outputs": [
        {
          "output_type": "stream",
          "text": [
            "숫자를 입력하세요.4546793\n",
            "454*67-9-3\n"
          ],
          "name": "stdout"
        }
      ]
    },
    {
      "cell_type": "code",
      "metadata": {
        "colab": {
          "base_uri": "https://localhost:8080/"
        },
        "id": "ucL6B3NlzUYu",
        "outputId": "2b788dad-01c1-4553-b16f-82c1dd192c0b"
      },
      "source": [
        "# [Q13] Code-2\n",
        "dashnum = input(\"숫자를 입력하세요.\")\n",
        "listnumbers = list(map(int, dashnum))   # 숫자 문자열을 숫자 리스트로 변경\n",
        "result = []\n",
        "def DashInsert(numbers):\n",
        "  for i, num in enumerate(numbers):   # i:0 num:4\n",
        "    result.append(str(num))         # result에 숫자 추가\n",
        "    if i < len(numbers)-1:                   # 다음 수가 있다면\n",
        "        is_odd = num % 2 == 1                # 현재 수가 홀수\n",
        "        is_next_odd = numbers[i+1] % 2 == 1  # 다음 수가 홀수\n",
        "        if is_odd and is_next_odd:           # 연속 홀수\n",
        "            result.append(\"-\")\n",
        "        elif not is_odd and not is_next_odd: # 연속 짝수\n",
        "            result.append(\"*\")\n",
        "\n",
        "DashInsert(listnumbers)\n",
        "print(\"\".join(result))"
      ],
      "execution_count": 38,
      "outputs": [
        {
          "output_type": "stream",
          "text": [
            "숫자를 입력하세요.4546793\n",
            "454*67-9-3\n"
          ],
          "name": "stdout"
        }
      ]
    },
    {
      "cell_type": "code",
      "metadata": {
        "colab": {
          "base_uri": "https://localhost:8080/"
        },
        "id": "SI9dx_e0zXQ1",
        "outputId": "98b4314d-aa79-40ad-a313-36e2ee690931"
      },
      "source": [
        "# [Q13] Code-3\n",
        "a=input(\"숫자를 입력하세요: \")\n",
        "b=[]\n",
        "\n",
        "for i in range(0,len(a)-1):\n",
        "    if (int(a[i])%2==0 and int(a[i+1])%2==0) : # 짝수가 연속으로 나오면\n",
        "        b.append(a[i]+\"*\")  # \"*\"를 추가한다.\n",
        "    elif (int(a[i])%2==1 and int(a[i+1])%2==1) : # 홀수가 연속으로 나오면\n",
        "        b.append(a[i]+\"-\")  # \"-\"를 추가한다.\n",
        "    else :\n",
        "        b.append(a[i])\n",
        "\n",
        "print(\"\".join(b)+a[len(a)-1])"
      ],
      "execution_count": 39,
      "outputs": [
        {
          "output_type": "stream",
          "text": [
            "숫자를 입력하세요: 4546793\n",
            "454*67-9-3\n"
          ],
          "name": "stdout"
        }
      ]
    },
    {
      "cell_type": "markdown",
      "metadata": {
        "id": "op5FM8FSzlSJ"
      },
      "source": [
        "# **Q14. 문자열 압축하기**\n",
        "> 문자열을 입력받아 같은 문자가 연속적으로 반복되는 경우에 그 반복 횟수를 표시해 문자열을 압축하여 표시하시오.\n",
        "\n",
        "입력 예시: aaabbcccccca\n",
        "\n",
        "출력 예시: a3b2c6a1"
      ]
    },
    {
      "cell_type": "code",
      "metadata": {
        "colab": {
          "base_uri": "https://localhost:8080/",
          "height": 53
        },
        "id": "_cIT3LNVzv3E",
        "outputId": "d3287844-5acb-47de-8806-8b4b05fc2440"
      },
      "source": [
        "# [Q14] Code-1\n",
        "eng = input(\"문자열을 입력하세요.:\")\n",
        "def loop_string(s):\n",
        "    _c = \"\"\n",
        "    cnt = 0\n",
        "    result = \"\"\n",
        "    for c in s:\n",
        "        if c!=_c:                        # 처음 들어온 문자일경우\n",
        "            _c = c\n",
        "            if cnt: result += str(cnt)   \n",
        "            result += c                   \n",
        "            cnt = 1                      # 카운트를 1로 초기화\n",
        "        else: cnt +=1                    # 한번 들어왔던 문자일 경우 카운트\n",
        "    if cnt: result += str(cnt)           \n",
        "    return result\n",
        "\n",
        "loop_string(eng)"
      ],
      "execution_count": 42,
      "outputs": [
        {
          "output_type": "stream",
          "text": [
            "문자열을 입력하세요.:aaabbcccccca\n"
          ],
          "name": "stdout"
        },
        {
          "output_type": "execute_result",
          "data": {
            "application/vnd.google.colaboratory.intrinsic+json": {
              "type": "string"
            },
            "text/plain": [
              "'a3b2c6a1'"
            ]
          },
          "metadata": {
            "tags": []
          },
          "execution_count": 42
        }
      ]
    },
    {
      "cell_type": "code",
      "metadata": {
        "colab": {
          "base_uri": "https://localhost:8080/",
          "height": 53
        },
        "id": "XsJ-m-9dzyPt",
        "outputId": "4abc4430-4297-44c7-fafd-3556d4209567"
      },
      "source": [
        "\n",
        "# [Q14] Code-2\n",
        "eng = input(\"문자열을 입력하세요.:\")\n",
        "def zip(sentence):\n",
        "    count = 0   # 문자를 세기 위한 변수\n",
        "    check = \"\"   # sentence가 달라지는 곳을 감지하는 수단\n",
        "    result = \"\" # 결과를 저장하는 공간\n",
        "    for i in sentence:\n",
        "        if check != i:\n",
        "            check = i\n",
        "            if count:\n",
        "                result += str(count)\n",
        "            result += i\n",
        "            count = 1\n",
        "        else:\n",
        "            count += 1\n",
        "    if count:\n",
        "        result += str(count)\n",
        "    return result\n",
        "\n",
        "zip(eng)"
      ],
      "execution_count": 43,
      "outputs": [
        {
          "output_type": "stream",
          "text": [
            "문자열을 입력하세요.:aaabbcccccca\n"
          ],
          "name": "stdout"
        },
        {
          "output_type": "execute_result",
          "data": {
            "application/vnd.google.colaboratory.intrinsic+json": {
              "type": "string"
            },
            "text/plain": [
              "'a3b2c6a1'"
            ]
          },
          "metadata": {
            "tags": []
          },
          "execution_count": 43
        }
      ]
    },
    {
      "cell_type": "code",
      "metadata": {
        "colab": {
          "base_uri": "https://localhost:8080/"
        },
        "id": "j_nTJMaiz0yn",
        "outputId": "2fa111e1-0c5a-46d9-e041-78be62680aec"
      },
      "source": [
        "# [Q14] Code-3\n",
        "i=input(\"압축할 문자열을 입력하세요: \")\n",
        "elst=[i[0]]\n",
        "c=1\n",
        "for n in range(len(i)-1):\n",
        "    if i[n]==i[n+1]:\n",
        "        c+=1\n",
        "    else:\n",
        "        elst.append(str(c))\n",
        "        elst.append(i[n+1])\n",
        "        c=1\n",
        "elst.append(str(c))\n",
        "print(\"\".join(elst))"
      ],
      "execution_count": 44,
      "outputs": [
        {
          "output_type": "stream",
          "text": [
            "압축할 문자열을 입력하세요: aaabbcccccca\n",
            "a3b2c6a1\n"
          ],
          "name": "stdout"
        }
      ]
    },
    {
      "cell_type": "markdown",
      "metadata": {
        "id": "u0Gvj6gb0P8h"
      },
      "source": [
        "# **Q15. Duplicate Numbers**\n",
        "\n",
        "> 0 ~ 9의 문자로 된 숫자를 입력받았을 때, 이 입력값이 0 ~ 9의 모든 숫자를 각각 한 번씩만 사용한 것인지 확인하는 함수를 작성하시오.\n",
        "\n",
        "입력 예시: 0123456789 01234 01234567890 6789012345 012322456789\n",
        "\n",
        "출력 예시: true false false true false"
      ]
    },
    {
      "cell_type": "code",
      "metadata": {
        "colab": {
          "base_uri": "https://localhost:8080/"
        },
        "id": "9J2Wavzg0Ra4",
        "outputId": "9269a3d0-2ca0-4a02-e63e-399c62065b3f"
      },
      "source": [
        "# [Q15] Code-1\n",
        "def checkNumber(s):\n",
        "    result = []                  # 리스트 초기화\n",
        "    for num in s:\n",
        "        if num not in result:    # 리스트의 값이 중복되는지 조사\n",
        "            result.append(num)   # 리스트에 num 추가\n",
        "        else:\n",
        "            return False         # 아닐 경우 거짓 반환\n",
        "    return len(result) == 10     # result 리스트내에 문자가 10개 있을 경우 true 반환\n",
        "\n",
        "print(checkNumber(\"0123456789\"))      \n",
        "print(checkNumber(\"01234\"))           \n",
        "print(checkNumber(\"01234567890\"))     \n",
        "print(checkNumber(\"6789012345\"))      \n",
        "print(checkNumber(\"012322456789\"))"
      ],
      "execution_count": 45,
      "outputs": [
        {
          "output_type": "stream",
          "text": [
            "True\n",
            "False\n",
            "False\n",
            "True\n",
            "False\n"
          ],
          "name": "stdout"
        }
      ]
    },
    {
      "cell_type": "code",
      "metadata": {
        "colab": {
          "base_uri": "https://localhost:8080/"
        },
        "id": "YZ4cW90y0Vo-",
        "outputId": "ba25d028-9da1-40cb-992d-f8f45c1aa97a"
      },
      "source": [
        "\n",
        "# [Q15] Code-2\n",
        "input_list = \"0123456789 01234 01234567890 6789012345 012322456789\"\n",
        "\n",
        "for input in input_list.split(\" \"):\n",
        "    if len(input) != 10 or len(input) != len(set(input)):\n",
        "        print(\"False\")\n",
        "    else:\n",
        "        print(\"True\")"
      ],
      "execution_count": 46,
      "outputs": [
        {
          "output_type": "stream",
          "text": [
            "True\n",
            "False\n",
            "False\n",
            "True\n",
            "False\n"
          ],
          "name": "stdout"
        }
      ]
    },
    {
      "cell_type": "code",
      "metadata": {
        "colab": {
          "base_uri": "https://localhost:8080/"
        },
        "id": "s5RMPGo30XM8",
        "outputId": "8455cbb2-ca08-4c39-d3fc-02780c9182a4"
      },
      "source": [
        "# [Q15] Code-3\n",
        "def chkDupNum(string):\n",
        "    num_set = set(string) # 중복된 숫자를 제거한다.\n",
        "    if len(string) == len(num_set) == 10:   # 중복 제거 한 후의 갯수와 같고 그 갯수가 10이라면\n",
        "        return \"True\" # True를 리턴한다.\n",
        "    else: # 아니라면\n",
        "        return \"False\"  # False를 리턴한다.\n",
        "\n",
        "input_string = \"0123456789 01234 01234567890 6789012345 012322456789\"\n",
        "for s in input_string.split(\" \"):\n",
        "    print(chkDupNum(s), end=' ')"
      ],
      "execution_count": 47,
      "outputs": [
        {
          "output_type": "stream",
          "text": [
            "True False False True False "
          ],
          "name": "stdout"
        }
      ]
    },
    {
      "cell_type": "markdown",
      "metadata": {
        "id": "k_zKMpy20aFP"
      },
      "source": [
        "\n",
        "# **Q16. 모스 부호 해독**\n",
        "> 문자열 형식으로 입력받은 모스 부호(dot:. dash:-)를 해독하여 영어 문장으로 출력하는 프로그램을 작성하시오.\n",
        "\n",
        "* 글자와 글자 사이는 공백 1개, 단어와 단어 사이는 공백 2개로 구분한다.\n",
        "* 예를 들어 다음 모스 부호는 \"HE SLEEPS EARLY\"로 해석해야 한다.\n",
        "\n",
        ".... .  ... .-.. . . .--. ...  . .- .-. .-.. -.--\n",
        "\n",
        "> 모스부호 규칙 표\n",
        "\n",
        "\n",
        "\n",
        "```\n",
        "문자 부호   문자   부호\n",
        "A    .-     N       -.\n",
        "B    -...   O       ---\n",
        "C    -.-.   P       .--.\n",
        "D    -..    Q       --.-\n",
        "E    .      R       .-.\n",
        "F    ..-.   S       ...\n",
        "G    --.    T       -\n",
        "H    ....   U       ..-\n",
        "I    ..     V       ...-\n",
        "J    .---   W       .--\n",
        "K    -.-    X       -..-\n",
        "L    .-..   Y       -.--\n",
        "M    --     Z       --..\n",
        "```\n",
        "\n"
      ]
    },
    {
      "cell_type": "code",
      "metadata": {
        "colab": {
          "base_uri": "https://localhost:8080/"
        },
        "id": "OpujMppk0tIv",
        "outputId": "dce93772-8cd2-4ba4-b554-44bd7cfc5ebb"
      },
      "source": [
        "# [Q16] Code-1\n",
        "dic = {\n",
        "    '.-':'A','-...':'B','-.-.':'C','-..':'D','.':'E','..-.':'F',\n",
        "    '--.':'G','....':'H','..':'I','.---':'J','-.-':'K','.-..':'L',\n",
        "    '--':'M','-.':'N','---':'O','.--.':'P','--.-':'Q','.-.':'R',\n",
        "    '...':'S','-':'T','..-':'U','...-':'V','.--':'W','-..-':'X',\n",
        "    '-.--':'Y','--..':'Z'\n",
        "}\n",
        "\n",
        "def morse(src):\n",
        "    result =[]\n",
        "    for word in src.split(\"  \"):\n",
        "        for char in word.split(\" \"):\n",
        "            result.append(dic[char])\n",
        "        result.append(\" \")\n",
        "    return \"\".join(result)\n",
        "\n",
        "print(morse('.... .  ... .-.. . . .--. ...  . .- .-. .-.. -.--'))"
      ],
      "execution_count": 48,
      "outputs": [
        {
          "output_type": "stream",
          "text": [
            "HE SLEEPS EARLY \n"
          ],
          "name": "stdout"
        }
      ]
    },
    {
      "cell_type": "code",
      "metadata": {
        "colab": {
          "base_uri": "https://localhost:8080/"
        },
        "id": "POqkx9vD0v3F",
        "outputId": "9c107ee9-7bae-4afe-a16f-84df28093354"
      },
      "source": [
        "# [Q16] Code-2\n",
        "dic = {\n",
        "    '.-':'A','-...':'B','-.-.':'C','-..':'D','.':'E','..-.':'F',\n",
        "    '--.':'G','....':'H','..':'I','.---':'J','-.-':'K','.-..':'L',\n",
        "    '--':'M','-.':'N','---':'O','.--.':'P','--.-':'Q','.-.':'R',\n",
        "    '...':'S','-':'T','..-':'U','...-':'V','.--':'W','-..-':'X',\n",
        "    '-.--':'Y','--..':'Z', '':' '\n",
        "}\n",
        "morse=\".... .  ... .-.. . . .--. ...  . .- .-. .-.. -.--\"\n",
        "word=morse.split(\" \")\n",
        "for i in word:\n",
        "    print(dic[i],end=\"\")"
      ],
      "execution_count": 49,
      "outputs": [
        {
          "output_type": "stream",
          "text": [
            "HE SLEEPS EARLY"
          ],
          "name": "stdout"
        }
      ]
    },
    {
      "cell_type": "code",
      "metadata": {
        "colab": {
          "base_uri": "https://localhost:8080/"
        },
        "id": "kMQCCKrX0yjx",
        "outputId": "d5d3c901-92d4-4d7d-b6fa-02e9db9482ac"
      },
      "source": [
        "# [Q16] Code-3\n",
        "dic = {\n",
        "    '.-':'A','-...':'B','-.-.':'C','-..':'D','.':'E','..-.':'F',\n",
        "    '--.':'G','....':'H','..':'I','.---':'J','-.-':'K','.-..':'L',\n",
        "    '--':'M','-.':'N','---':'O','.--.':'P','--.-':'Q','.-.':'R',\n",
        "    '...':'S','-':'T','..-':'U','...-':'V','.--':'W','-..-':'X',\n",
        "    '-.--':'Y','--..':'Z', '':' '\n",
        "}\n",
        "m = '.... .  ... .-.. . . .--. ...  . .- .-. .-.. -.--'\n",
        "morse = m.split(' ')\n",
        "s = ''\n",
        "for m in morse:\n",
        "    s += dic[m]\n",
        "print(s)"
      ],
      "execution_count": 50,
      "outputs": [
        {
          "output_type": "stream",
          "text": [
            "HE SLEEPS EARLY\n"
          ],
          "name": "stdout"
        }
      ]
    },
    {
      "cell_type": "markdown",
      "metadata": {
        "id": "knfoW_5W047S"
      },
      "source": [
        "# **코딩 연습 결과를 github에 올리기**\n",
        "> 완성된 ipython 노트북 파일을 각자의 github에 올리시오.\n",
        "\n",
        "* github 계정 만들기 (계정이 없는 학생)\n",
        "     1. github에 sign up (Google gmail 계정을 이용해서 만드시오.)\n",
        "* github에 노트 올리기\n",
        "     1. github에 각자의 id로 repo를 만드시오. (한번 만들면 계속 재사용)\n",
        "     2. github repo에 연습결과 노트를 올리시오.\n",
        "           * 제출노트: ch8_exercises_id.ipynb"
      ]
    }
  ]
}